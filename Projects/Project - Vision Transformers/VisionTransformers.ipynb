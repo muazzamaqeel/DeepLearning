{
 "cells": [
  {
   "cell_type": "markdown",
   "id": "db4facc7-3c3f-4c34-9043-1c759144aed0",
   "metadata": {},
   "source": [
    "# Introduction to Vision Transformers - Mini Project\n",
    "---\r\n",
    "<div style=\"font-size: 20px\">\r\n",
    "  Group:\r\n",
    "  <br>\r\n",
    "  Homework H \r\n",
    "  <br>\r\n",
    "  Created by: Muazzam Bin Aqeel---(Matrikel-Nr. 3139776) & Wesley dos santos Barisch---(Matrikel-Nr. 3140227)\r",
    "</div>\n",
    "\n"
   ]
  },
  {
   "cell_type": "markdown",
   "id": "4b4a5ea2-977f-4985-8d96-17b94a5aa643",
   "metadata": {},
   "source": [
    "## Task 2: Visualizing attention in ViTs\n",
    "\n",
    "Attention in ViTs tells us which parts of an image are important for some other image parts (or for the classification itself). This provides a form of inherent explainability. In this task, you should explore this option and visualize attention maps to understand, what a ViT is looking at in the image. As a starting point, **read this excellent [blog post](https://jacobgil.github.io/deeplearning/vision-transformer-explainability) by Jacob Gildenblat** to get an understanding of how attention can be visualized in ViTs. Here are some more **implementations** that might help you with the task:\n",
    "\n",
    "* https://github.com/mashaan14/VisionTransformer-MNIST/blob/main/VisionTransformer_MNIST.ipynb\n",
    "* https://github.com/jacobgil/vit-explain/tree/main\n",
    "* https://github.com/jeonsworld/ViT-pytorch/blob/main/visualize_attention_map.ipynb\n",
    "\n",
    "\n",
    "\n",
    "### Task 2.1: Modify our ViT implementation to output the attention matrix \n",
    "<span style=\"color:blue\">\n",
    "    To visualize attention for a specific image, the model needs to output not only its prediction, but also the attention matrix. You should adapt the <code>VisionTransformer</code> class that we used in the material notebook in such a way that it outputs the attention matrix <code>x_attention</code>.\n",
    "</span>\n",
    "\n",
    "\n",
    "\n",
    "### Task 2.2: Write a function that creates an attention heatmap for a specific image\n",
    "To visualize the attention values as an image, the matrix must first be transformed. Remember, the attention matrix is of shape `[layers, attention_heads, num_patches+class_token, num_patches+class_token]`, but we want to view it as a grayscale image of size 28x28. Therefore, the function needs the following components:\n",
    "\n",
    "* <span style=\"color:blue\">Aggregate the attention weights across all heads. Just like in the <a href=\"https://jacobgil.github.io/deeplearning/vision-transformer-explainability\">blog post</a> by Jacob Gildenblat you should implement a <code>mean</code>, <code>min</code>, and <code>max</code> aggregation! </span>\n",
    "* <span style=\"color:blue\">Again leaning on the idea by <a href=\"https://jacobgil.github.io/deeplearning/vision-transformer-explainability\">Jacob Gildenblat</a>, you should implement a filter to discard attention values below a certain threshold. You can implement this as a function parameter <code>discard_ratio</code>.  </span>\n",
    "* <span style=\"color:blue\">The function should be able to <b>select specific layers</b>. With that we can later see, how different network depths behave.</span>\n",
    "* <span style=\"color:blue\">The function needs to account for <b>residual connections</b> by adding an identity matrix and then re-normlize the weights.</span>\n",
    "* <span style=\"color:blue\">Since we are not interested in the absolut attention values as much as the flow and change of attention weights through the network, you need to <b>recursively multiply the attention weight matrices</b> from successive layers to trace how attention flows from the input to the output.</span>\n",
    "* <span style=\"color:blue\">Finally, you need to reshape the resulting <code>joint_attentions</code> to match the image size.</span>\n",
    "\n",
    "\n",
    "### Task 2.3: Use the function to visualize attention maps for example images\n",
    "Now you should finally put everything together and visualize some attention maps to understand, what the model is looking at in the images! \n",
    "\n",
    "* <span style=\"color:blue\">Load the weights of the best model from the material notebook <code>ViT_model.pt</code> into your adapted <code>VisionTransformer</code></span>\n",
    "* <span style=\"color:blue\">Visualize multiple original images as well as their attention maps in a grid. </span>\n",
    "* <span style=\"color:blue\">Try different <b>aggregation methods</b> for attention heads, <b>discard ratios</b> and <b>layers</b>.  </span>\n",
    "* <span style=\"color:blue\">Interpret your findings!</span>\n"
   ]
  },
  {
   "cell_type": "markdown",
   "id": "ff038d59-ffda-429a-8dc2-c05f85b1b4f5",
   "metadata": {},
   "source": [
    "## Imports"
   ]
  },
  {
   "cell_type": "code",
   "execution_count": 2,
   "id": "e43abd36-1779-410b-bca8-d5cd480b5e68",
   "metadata": {},
   "outputs": [],
   "source": [
    "import torch\n",
    "from torchvision import datasets, transforms\n",
    "from torchvision.transforms import v2\n",
    "import os\n",
    "import torch.nn as nn\n",
    "from torch import optim\n",
    "import numpy as np\n",
    "from sklearn.metrics import confusion_matrix, accuracy_score\n",
    "import matplotlib.pyplot as plt\n",
    "import time\n",
    "import torch.nn.functional as F"
   ]
  },
  {
   "cell_type": "code",
   "execution_count": 3,
   "id": "35a51c50-93ee-4c13-9668-4d685e48088f",
   "metadata": {},
   "outputs": [
    {
     "name": "stdout",
     "output_type": "stream",
     "text": [
      "2.1.0+cu118\n",
      "cuda available: True\n",
      "GPU: NVIDIA GeForce RTX 3090\n",
      "Using cuda\n"
     ]
    }
   ],
   "source": [
    "print(torch.__version__)\n",
    "#check if cuda is available\n",
    "cuda_available = torch.cuda.is_available()\n",
    "print(f\"cuda available: {cuda_available}\")\n",
    "if cuda_available:\n",
    "    print(f\"GPU: {torch.cuda.get_device_name(0)}\")\n",
    "\n",
    "USE_ONLY_CPU = False\n",
    "if USE_ONLY_CPU:\n",
    "    device = torch.device(\"cpu\")\n",
    "else:\n",
    "    device = torch.device(\"cuda\" if cuda_available else \"cpu\")\n",
    "print(f'Using {device}')\n",
    "\n",
    "# set random seed\n",
    "seed = 42\n",
    "torch.manual_seed(seed)\n",
    "np.random.seed(seed)\n",
    "torch.cuda.manual_seed(seed)\n",
    "torch.cuda.manual_seed_all(seed)\n",
    "torch.backends.cudnn.deterministic = True\n",
    "torch.backends.cudnn.benchmark = False"
   ]
  },
  {
   "cell_type": "code",
   "execution_count": 4,
   "id": "323b87f1-3f37-4792-be66-0a42c5231093",
   "metadata": {},
   "outputs": [],
   "source": [
    "# Training parameters\n",
    "EPOCHS = 10\n",
    "WARMUP_EPOCHS = 10\n",
    "BATCH_SIZE = 128\n",
    "N_CLASSES = 10\n",
    "N_WORKERS = 0\n",
    "LR = 5e-4\n",
    "\n",
    "# Data parameters\n",
    "DATASET = 'fmnist'\n",
    "IMAGE_SIZE = 28\n",
    "PATCH_SIZE = 4\n",
    "N_CHANNELS = 1\n",
    "DATA_PATH = './data/'\n",
    "\n",
    "# ViT parameters\n",
    "EMBED_DIM = 64\n",
    "N_ATTENTION_HEADS = 4\n",
    "FORWARD_MUL = 2\n",
    "N_LAYERS = 6\n",
    "DROPOUT = 0.1\n",
    "MODEL_PATH = './models'\n",
    "LOAD_MODEL = False"
   ]
  },
  {
   "cell_type": "code",
   "execution_count": 5,
   "id": "6386b98d-d910-464c-9506-4601057d7191",
   "metadata": {},
   "outputs": [],
   "source": [
    "train_transform = transforms.Compose([transforms.Resize([IMAGE_SIZE, IMAGE_SIZE]),\n",
    "                              transforms.RandomCrop(IMAGE_SIZE, padding=2), \n",
    "                              transforms.RandomHorizontalFlip(),\n",
    "                              transforms.ToTensor(),\n",
    "                              transforms.Normalize([0.5], [0.5])])\n",
    "train = datasets.FashionMNIST(os.path.join(DATA_PATH, DATASET), train=True, download=True, transform=train_transform)\n",
    "\n",
    "test_transform = transforms.Compose([transforms.Resize([IMAGE_SIZE, IMAGE_SIZE]), transforms.ToTensor(), transforms.Normalize([0.5], [0.5])])\n",
    "test = datasets.FashionMNIST(os.path.join(DATA_PATH, DATASET), train=False, download=True, transform=test_transform)\n",
    "\n",
    "train_loader = torch.utils.data.DataLoader(dataset=train,\n",
    "                                             batch_size=BATCH_SIZE,\n",
    "                                             shuffle=True,\n",
    "                                             num_workers=N_WORKERS,\n",
    "                                             drop_last=True)\n",
    "\n",
    "test_loader = torch.utils.data.DataLoader(dataset=test,\n",
    "                                            batch_size=BATCH_SIZE,\n",
    "                                            shuffle=False,\n",
    "                                            num_workers=N_WORKERS,\n",
    "                                            drop_last=False)"
   ]
  },
  {
   "cell_type": "code",
   "execution_count": 6,
   "id": "b9825068-d222-4e83-b63f-4c5e557fead6",
   "metadata": {},
   "outputs": [
    {
     "data": {
      "image/png": "[encoded data removed]",
      "text/plain": [
       "<Figure size 600x600 with 9 Axes>"
      ]
     },
     "metadata": {},
     "output_type": "display_data"
    }
   ],
   "source": [
    "labels_map={\n",
    "    0: 'T-shirt',\n",
    "    1: 'Trouser',\n",
    "    2: 'Pullover',\n",
    "    3: 'Dress',\n",
    "    4: 'Coat',\n",
    "    5: 'Sandal',\n",
    "    6: 'Shirt',\n",
    "    7: 'Sneaker',\n",
    "    8: 'Bag',\n",
    "    9: 'Ankle Boot',\n",
    "}\n",
    "\n",
    "figure = plt.figure(figsize = (6,6))\n",
    "cols, rows = 3, 3\n",
    "\n",
    "for i in range (1, cols*rows + 1):\n",
    "    sample_idx = torch.randint(len(train), size = (1,)).item()\n",
    "    image, label = train[sample_idx]\n",
    "    figure.add_subplot(rows, cols, i)\n",
    "    plt.title(labels_map[label])\n",
    "    plt.axis('off')\n",
    "    plt.imshow(image.squeeze(), cmap='gray_r')\n",
    "plt.show()"
   ]
  },
  {
   "cell_type": "code",
   "execution_count": 7,
   "id": "7bf32173-5275-4b7d-b807-45dc7aad2b90",
   "metadata": {},
   "outputs": [],
   "source": [
    "# Get a single example image without transformations\n",
    "vis_loader = torch.utils.data.DataLoader(dataset=train,\n",
    "                                         batch_size=1,\n",
    "                                         shuffle=False,\n",
    "                                         num_workers=N_WORKERS,\n",
    "                                         drop_last=True)\n",
    "\n",
    "images, _ = next(iter(vis_loader))"
   ]
  },
  {
   "cell_type": "code",
   "execution_count": 8,
   "id": "64333b80-a17a-45e8-827e-3487616556d8",
   "metadata": {},
   "outputs": [],
   "source": [
    "conv_layer = nn.Conv2d(in_channels = N_CHANNELS, out_channels = EMBED_DIM, kernel_size = PATCH_SIZE, stride = PATCH_SIZE)"
   ]
  },
  {
   "cell_type": "code",
   "execution_count": 9,
   "id": "9b934451-6cc9-4166-92d2-50f8ad962aab",
   "metadata": {},
   "outputs": [
    {
     "name": "stdout",
     "output_type": "stream",
     "text": [
      "Shape of embeddings through the conv layer -> [1, 64, 7, 7] <- [batch_size, num_of_patch_rows,num_patch_cols embedding_dims]\n",
      "Shape of embeddings through the flatten layer -> [1, 49, 64] <- [batch_size, num_of_patches, embedding_dims]\n"
     ]
    }
   ],
   "source": [
    "# Pass the image through the convolution layer\n",
    "image_through_conv = conv_layer(images)\n",
    "print(f'Shape of embeddings through the conv layer -> {list(image_through_conv.shape)} <- [batch_size, num_of_patch_rows,num_patch_cols embedding_dims]')\n",
    "\n",
    "# Permute the dimensions of image_through_conv to match the expected shape\n",
    "image_through_conv = image_through_conv.permute((0, 2, 3, 1))\n",
    "\n",
    "# Create a flatten layer using nn.Flatten\n",
    "flatten_layer = nn.Flatten(start_dim=1, end_dim=2)\n",
    "\n",
    "# Pass the image_through_conv through the flatten layer\n",
    "image_through_conv_and_flatten = flatten_layer(image_through_conv)\n",
    "\n",
    "# Print the shape of the embedded image\n",
    "print(f'Shape of embeddings through the flatten layer -> {list(image_through_conv_and_flatten.shape)} <- [batch_size, num_of_patches, embedding_dims]')\n",
    "\n",
    "# Assign the embedded image to a variable\n",
    "embedded_image = image_through_conv_and_flatten"
   ]
  },
  {
   "cell_type": "code",
   "execution_count": 10,
   "id": "fb538d4a-8cbb-4619-8d58-f4242a934120",
   "metadata": {},
   "outputs": [],
   "source": [
    "class EmbedLayer(nn.Module):\n",
    "    def __init__(self, n_channels, embed_dim, image_size, patch_size, dropout=0.0):\n",
    "        super().__init__()\n",
    "        # Convolutional layer to convert image patches to embeddings\n",
    "        self.conv1 = nn.Conv2d(n_channels, embed_dim, kernel_size=patch_size, stride=patch_size)  # Pixel Encoding\n",
    "\n",
    "        # Classification token, learnable parameter\n",
    "        self.cls_token = nn.Parameter(torch.zeros(1, 1, embed_dim), requires_grad=True)\n",
    "        \n",
    "        # Positional embeddings for each patch + 1 for the classification token\n",
    "        self.pos_embedding = nn.Parameter(torch.zeros(1, (image_size // patch_size) ** 2 + 1, embed_dim), requires_grad=True)  # Positional Embedding\n",
    "        \n",
    "        # Dropout layer\n",
    "        self.dropout = nn.Dropout(dropout)\n",
    "\n",
    "    def forward(self, x):\n",
    "        # Convert image to patch embeddings\n",
    "        x = self.conv1(x)  # B C IH IW -> B E IH/P IW/P (Embedding the patches)\n",
    "\n",
    "        # Flatten the patch embeddings\n",
    "        x = x.reshape([x.shape[0], x.shape[1], -1])  # B E IH/P IW/P -> B E S (Flattening the patches)\n",
    "\n",
    "        # Transpose to match transformer input shape\n",
    "        x = x.transpose(1, 2)  # B E S -> B S E \n",
    "\n",
    "        # Add classification token at the start of each sequence\n",
    "        x = torch.cat((torch.repeat_interleave(self.cls_token, x.shape[0], 0), x), dim=1)  # Adding classification token at the start of every sequence\n",
    "        \n",
    "        # Add positional embeddings\n",
    "        x = x + self.pos_embedding  # Adding positional embedding\n",
    "        \n",
    "        # Apply dropout\n",
    "        x = self.dropout(x)\n",
    "        return x"
   ]
  },
  {
   "cell_type": "code",
   "execution_count": 11,
   "id": "fc0e75c2-93cc-4782-943c-db1a6d44250c",
   "metadata": {},
   "outputs": [],
   "source": [
    "class SelfAttention(nn.Module):\n",
    "    def __init__(self, embed_dim, n_attention_heads):\n",
    "        super().__init__()\n",
    "        self.embed_dim = embed_dim\n",
    "        self.n_attention_heads = n_attention_heads\n",
    "        self.head_embed_dim = embed_dim // n_attention_heads\n",
    "\n",
    "        # Linear layers for query, key, and value projections\n",
    "        self.queries = nn.Linear(self.embed_dim, self.head_embed_dim * self.n_attention_heads) # Queries projection\n",
    "        self.keys = nn.Linear(self.embed_dim, self.head_embed_dim * self.n_attention_heads)    # Keys projection\n",
    "        self.values = nn.Linear(self.embed_dim, self.head_embed_dim * self.n_attention_heads)  # Values projection\n",
    "\n",
    "        # Output projection layer\n",
    "        self.out_projection = nn.Linear(self.embed_dim, self.embed_dim)\n",
    "\n",
    "    def forward(self, x):\n",
    "        b, s, e = x.shape\n",
    "\n",
    "        # Project inputs to queries, keys, and values\n",
    "        xq = self.queries(x).reshape(b, s, self.n_attention_heads, self.head_embed_dim)  # B, Q, E -> B, Q, H, HE\n",
    "        xq = xq.transpose(1, 2)  # B, Q, H, HE -> B, H, Q, HE\n",
    "        xk = self.keys(x).reshape(b, s, self.n_attention_heads, self.head_embed_dim)  # B, K, E -> B, K, H, HE\n",
    "        xk = xk.transpose(1, 2)  # B, K, H, HE -> B, H, K, HE\n",
    "        xv = self.values(x).reshape(b, s, self.n_attention_heads, self.head_embed_dim)  # B, V, E -> B, V, H, HE\n",
    "        xv = xv.transpose(1, 2)  # B, V, H, HE -> B, H, V, HE\n",
    "\n",
    "        # Compute Attention presoftmax values\n",
    "        xk = xk.transpose(-1, -2)  # B, H, K, HE -> B, H, HE, K\n",
    "        x_attention = torch.matmul(xq, xk)  # B, H, Q, HE  *  B, H, HE, K -> B, H, Q, K\n",
    "\n",
    "        # Scale presoftmax values for stability\n",
    "        x_attention /= float(self.head_embed_dim) ** 0.5\n",
    "\n",
    "        # Compute Attention Matrix\n",
    "        x_attention = torch.softmax(x_attention, dim=-1)\n",
    "\n",
    "        # Compute Attention Values\n",
    "        x = torch.matmul(x_attention, xv)  # B, H, Q, K * B, H, V, HE -> B, H, Q, HE\n",
    "\n",
    "        # Format the output\n",
    "        x = x.transpose(1, 2)  # B, H, Q, HE -> B, Q, H, HE\n",
    "        x = x.reshape(b, s, e)  # B, Q, H, HE -> B, Q, E\n",
    "        x = self.out_projection(x)  # B, Q, E -> B, Q, E\n",
    "        return x, x_attention"
   ]
  },
  {
   "cell_type": "markdown",
   "id": "f942ade8-651b-4c59-a90c-bfb3180d945e",
   "metadata": {},
   "source": [
    "What follows is a very straightforward implementation of the transformer encoder, using our `SelfAttention` class from above, together with the **layer normalization** `nn.LayerNorm`, **dropout** `nn.Dropout`, and **MLP layers** `nn.Linear`:"
   ]
  },
  {
   "cell_type": "code",
   "execution_count": 12,
   "id": "5cb399da-ce27-4901-9ccb-fa35fbc17bdb",
   "metadata": {},
   "outputs": [],
   "source": [
    "class Encoder(nn.Module):\n",
    "    def __init__(self, embed_dim, n_attention_heads, forward_mul, dropout=0.0):\n",
    "        super().__init__()\n",
    "        # Layer normalization and self-attention layer\n",
    "        self.norm1 = nn.LayerNorm(embed_dim)\n",
    "        self.attention = SelfAttention(embed_dim, n_attention_heads)\n",
    "        self.dropout1 = nn.Dropout(dropout)\n",
    "\n",
    "        # Feed-forward network layers\n",
    "        self.norm2 = nn.LayerNorm(embed_dim)\n",
    "        self.fc1 = nn.Linear(embed_dim, embed_dim * forward_mul)\n",
    "        self.activation = nn.GELU()\n",
    "        self.fc2 = nn.Linear(embed_dim * forward_mul, embed_dim)\n",
    "        self.dropout2 = nn.Dropout(dropout)\n",
    "\n",
    "    def forward(self, x):\n",
    "        # Apply self-attention with skip connection\n",
    "        t, s = self.attention(self.norm1(x))\n",
    "        x = x + self.dropout1(t)\n",
    "\n",
    "        # Apply feed-forward network with skip connection\n",
    "        x = x + self.dropout2(self.fc2(self.activation(self.fc1(self.norm2(x)))))\n",
    "        return x, s"
   ]
  },
  {
   "cell_type": "markdown",
   "id": "de2ba07c-f284-4900-85d0-8afe51a16060",
   "metadata": {},
   "source": [
    "#### Component 3: Classifier"
   ]
  },
  {
   "cell_type": "markdown",
   "id": "0bb8ce6c-b335-49ae-bc4b-83e70fdd0fb7",
   "metadata": {},
   "source": [
    "The classifier is composed of two hidden layers of a Multi-Layer Perceptron (MLP) `nn.Linear` with a tanh `nn.Tanh` activation function in-between the hidden layers. The final output of this classification head is the prediction for the image classification task. By using a *class token*, the model can directly map the summarized information to the desired output classes."
   ]
  },
  {
   "cell_type": "code",
   "execution_count": 13,
   "id": "b46c3343-b620-44fa-856b-bc767796c53c",
   "metadata": {},
   "outputs": [],
   "source": [
    "class Classifier(nn.Module):\n",
    "    def __init__(self, embed_dim, n_classes):\n",
    "        super().__init__()\n",
    "        # Linear layers for classification\n",
    "        # New architectures skip fc1 and activations and directly apply fc2.\n",
    "        self.fc1 = nn.Linear(embed_dim, embed_dim)\n",
    "        self.activation = nn.Tanh()\n",
    "        self.fc2 = nn.Linear(embed_dim, n_classes)\n",
    "\n",
    "    def forward(self, x):\n",
    "        # Use only the classification token for prediction\n",
    "        x = x[:, 0, :]\n",
    "        x = self.fc1(x)\n",
    "        x = self.activation(x)\n",
    "        x = self.fc2(x)\n",
    "        return x"
   ]
  },
  {
   "cell_type": "markdown",
   "id": "cd724b44-0aa3-412b-a682-453550e49736",
   "metadata": {},
   "source": [
    "#### Combining everything to a ViT"
   ]
  },
  {
   "cell_type": "markdown",
   "id": "44f6ad33-7d58-418c-b90b-d75497899832",
   "metadata": {},
   "source": [
    "We can now combine all these components to create the final ViT model:"
   ]
  },
  {
   "cell_type": "code",
   "execution_count": 14,
   "id": "cc3d3e71-1a49-4def-aa52-ac5006709e1a",
   "metadata": {},
   "outputs": [],
   "source": [
    "class VisionTransformer(nn.Module):\n",
    "    def __init__(self, n_channels, embed_dim, n_layers, n_attention_heads, forward_mul, image_size, patch_size, n_classes, dropout=0.1):\n",
    "        super().__init__()\n",
    "        # Embedding layer\n",
    "        self.embedding = EmbedLayer(n_channels, embed_dim, image_size, patch_size, dropout=dropout)\n",
    "\n",
    "        # Encoder layers\n",
    "        self.encoder = nn.ModuleList([Encoder(embed_dim, n_attention_heads, forward_mul, dropout=dropout) for _ in range(n_layers)])\n",
    "        \n",
    "        # Final normalization layer\n",
    "        self.norm = nn.LayerNorm(embed_dim)\n",
    "\n",
    "        # Classifier\n",
    "        self.classifier = Classifier(embed_dim, n_classes)\n",
    "\n",
    "        # Initialize weights\n",
    "        self.apply(vit_init_weights)\n",
    "\n",
    "    def forward(self, x, return_attention=False):\n",
    "        # Apply embedding and encoder layers\n",
    "        x = self.embedding(x)\n",
    "        i = 0\n",
    "        for block in self.encoder:\n",
    "            x, s = block(x)\n",
    "            if i == 0:\n",
    "                attention_list = s\n",
    "            else:\n",
    "                torch.cat((attention_list, s), dim=0)\n",
    "            i += 1\n",
    "                \n",
    "        x = self.norm(x)\n",
    "        x = self.classifier(x)\n",
    "        if return_attention:\n",
    "            return x, attention_list\n",
    "        return x"
   ]
  },
  {
   "cell_type": "markdown",
   "id": "1ad040b8-6feb-4738-92b2-e45504af7086",
   "metadata": {},
   "source": [
    "Model weights are initialized as follows:"
   ]
  },
  {
   "cell_type": "code",
   "execution_count": 15,
   "id": "71693024-3e69-41d1-83b8-068353334227",
   "metadata": {},
   "outputs": [],
   "source": [
    "def vit_init_weights(m): \n",
    "    # Initialize weights for Conv2d and Linear layers\n",
    "    if isinstance(m, nn.Conv2d) or isinstance(m, nn.Linear):\n",
    "        nn.init.trunc_normal_(m.weight, mean=0.0, std=0.02)\n",
    "        if m.bias is not None:\n",
    "            nn.init.constant_(m.bias, 0)\n",
    "\n",
    "    # Initialize weights for LayerNorm\n",
    "    elif isinstance(m, nn.LayerNorm):\n",
    "        nn.init.constant_(m.weight, 1)\n",
    "        nn.init.constant_(m.bias, 0)\n",
    "\n",
    "    # Initialize weights for EmbedLayer\n",
    "    elif isinstance(m, EmbedLayer):\n",
    "        nn.init.trunc_normal_(m.cls_token, mean=0.0, std=0.02)\n",
    "        nn.init.trunc_normal_(m.pos_embedding, mean=0.0, std=0.02)"
   ]
  },
  {
   "cell_type": "markdown",
   "id": "6bd2adf8-7624-4fac-ac59-34e0e46745f5",
   "metadata": {},
   "source": [
    "We can now initialize the model:"
   ]
  },
  {
   "cell_type": "code",
   "execution_count": 16,
   "id": "1a8fef9b-cb2e-461c-8809-65fe941cee13",
   "metadata": {},
   "outputs": [],
   "source": [
    "# Initialize model\n",
    "model = VisionTransformer(n_channels=N_CHANNELS, embed_dim=EMBED_DIM, \n",
    "                          n_layers=N_LAYERS, n_attention_heads=N_ATTENTION_HEADS, \n",
    "                          forward_mul=FORWARD_MUL, image_size=IMAGE_SIZE, \n",
    "                          patch_size=PATCH_SIZE, n_classes=N_CLASSES, dropout=DROPOUT)"
   ]
  },
  {
   "cell_type": "code",
   "execution_count": 17,
   "id": "9da34809-94ef-4625-bd53-f2a3e22a08e2",
   "metadata": {},
   "outputs": [],
   "source": [
    "# Load model parameters to cuda\n",
    "model = model.to(device)"
   ]
  },
  {
   "cell_type": "code",
   "execution_count": 18,
   "id": "d424eb73-55ba-4db5-a0ad-adb497caa849",
   "metadata": {
    "scrolled": true
   },
   "outputs": [
    {
     "data": {
      "text/plain": [
       "VisionTransformer(\n",
       "  (embedding): EmbedLayer(\n",
       "    (conv1): Conv2d(1, 64, kernel_size=(4, 4), stride=(4, 4))\n",
       "    (dropout): Dropout(p=0.1, inplace=False)\n",
       "  )\n",
       "  (encoder): ModuleList(\n",
       "    (0-5): 6 x Encoder(\n",
       "      (norm1): LayerNorm((64,), eps=1e-05, elementwise_affine=True)\n",
       "      (attention): SelfAttention(\n",
       "        (queries): Linear(in_features=64, out_features=64, bias=True)\n",
       "        (keys): Linear(in_features=64, out_features=64, bias=True)\n",
       "        (values): Linear(in_features=64, out_features=64, bias=True)\n",
       "        (out_projection): Linear(in_features=64, out_features=64, bias=True)\n",
       "      )\n",
       "      (dropout1): Dropout(p=0.1, inplace=False)\n",
       "      (norm2): LayerNorm((64,), eps=1e-05, elementwise_affine=True)\n",
       "      (fc1): Linear(in_features=64, out_features=128, bias=True)\n",
       "      (activation): GELU(approximate='none')\n",
       "      (fc2): Linear(in_features=128, out_features=64, bias=True)\n",
       "      (dropout2): Dropout(p=0.1, inplace=False)\n",
       "    )\n",
       "  )\n",
       "  (norm): LayerNorm((64,), eps=1e-05, elementwise_affine=True)\n",
       "  (classifier): Classifier(\n",
       "    (fc1): Linear(in_features=64, out_features=64, bias=True)\n",
       "    (activation): Tanh()\n",
       "    (fc2): Linear(in_features=64, out_features=10, bias=True)\n",
       "  )\n",
       ")"
      ]
     },
     "execution_count": 18,
     "metadata": {},
     "output_type": "execute_result"
    }
   ],
   "source": [
    "# Show model architecture\n",
    "model"
   ]
  },
  {
   "cell_type": "code",
   "execution_count": 19,
   "id": "d63a8508-01aa-46b7-b25e-b925430bab58",
   "metadata": {},
   "outputs": [
    {
     "name": "stdout",
     "output_type": "stream",
     "text": [
      "Model has 210,122 learnable parameters\n"
     ]
    }
   ],
   "source": [
    "# Show number of model parameters\n",
    "params =  sum(p.numel() for p in model.parameters() if p.requires_grad)\n",
    "print(f\"Model has {params:,} learnable parameters\")   "
   ]
  },
  {
   "cell_type": "code",
   "execution_count": null,
   "id": "6b95912d-75ac-4435-9fee-4d7886dbe175",
   "metadata": {},
   "outputs": [],
   "source": []
  },
  {
   "cell_type": "markdown",
   "id": "be789306-f065-496a-b56f-9106f5e90931",
   "metadata": {},
   "source": [
    "### Training"
   ]
  },
  {
   "cell_type": "markdown",
   "id": "8b03bc70-713d-456e-b377-925a4c3ed83e",
   "metadata": {},
   "source": [
    "(original implementation in `solver.py`)"
   ]
  },
  {
   "cell_type": "markdown",
   "id": "fa127f9e-cc67-4975-bada-a4d2962ac746",
   "metadata": {},
   "source": [
    "To following code to train the model is quite similar to code we have already seen and used in other lectures. One important difference is the usage of **schedulers** `optim.lr_scheduler.LinearLR` and `optim.lr_scheduler.CosineAnnealingLR`. These schedulers adapt the learning rate dynamically during training, which helps the model converge and achieve better performance (for object detection we adapted the learning rate by hand ...)."
   ]
  },
  {
   "cell_type": "code",
   "execution_count": 20,
   "id": "82dfafec-13fd-40a1-9907-86f3011721eb",
   "metadata": {},
   "outputs": [],
   "source": [
    "train_losses = []\n",
    "train_accuracies = []\n",
    "test_losses = []\n",
    "test_accuracies = []"
   ]
  },
  {
   "cell_type": "code",
   "execution_count": 21,
   "id": "ac142d16-0b74-4251-b0ef-411afe9d6ec6",
   "metadata": {},
   "outputs": [],
   "source": [
    "def test_dataset(model,loss_fn,loader):\n",
    "    # Set Vision Transformer to evaluation mode\n",
    "    model.eval()\n",
    "\n",
    "    # Arrays to record all labels and logits\n",
    "    all_labels = []\n",
    "    all_logits = []\n",
    "\n",
    "    # Testing loop\n",
    "    for (x, y) in loader:\n",
    "        x = x.cuda()\n",
    "\n",
    "        # Avoid capturing gradients in evaluation time for faster speed\n",
    "        with torch.no_grad():\n",
    "            logits = model(x)\n",
    "\n",
    "        all_labels.append(y)\n",
    "        all_logits.append(logits.cpu())\n",
    "\n",
    "    # Convert all captured variables to torch\n",
    "    all_labels = torch.cat(all_labels)\n",
    "    all_logits = torch.cat(all_logits)\n",
    "    all_pred = all_logits.max(1)[1]\n",
    "    \n",
    "    # Compute loss, accuracy and confusion matrix\n",
    "    loss = loss_fn(all_logits, all_labels).item()\n",
    "    acc = accuracy_score(y_true=all_labels, y_pred=all_pred)\n",
    "    cm = confusion_matrix(y_true=all_labels, y_pred=all_pred, labels=range(N_CLASSES))\n",
    "\n",
    "    return acc, cm, loss\n",
    "\n",
    "def test(model,loss_fn,train_loader,test_loader):\n",
    "    # Test using test loader\n",
    "    acc, cm, loss = test_dataset(model,loss_fn,test_loader)\n",
    "    print(f\"Test acc: {acc:.2%}\\tTest loss: {loss:.4f}\")\n",
    "    # Optional: print confusion matrix\n",
    "    #print(cm)\n",
    "\n",
    "    return acc, loss"
   ]
  },
  {
   "cell_type": "code",
   "execution_count": 22,
   "id": "737c4788-a10e-412a-bfd1-7bb6d8382827",
   "metadata": {},
   "outputs": [
    {
     "name": "stdout",
     "output_type": "stream",
     "text": [
      "Ep: 1/10\tIt: 1/468\tbatch_loss: 2.3056\tbatch_accuracy: 7.03%\n",
      "Ep: 1/10\tIt: 51/468\tbatch_loss: 2.2498\tbatch_accuracy: 22.66%\n",
      "Ep: 1/10\tIt: 101/468\tbatch_loss: 2.1745\tbatch_accuracy: 23.44%\n",
      "Ep: 1/10\tIt: 151/468\tbatch_loss: 2.0838\tbatch_accuracy: 22.66%\n",
      "Ep: 1/10\tIt: 201/468\tbatch_loss: 2.0024\tbatch_accuracy: 18.75%\n",
      "Ep: 1/10\tIt: 251/468\tbatch_loss: 1.9290\tbatch_accuracy: 32.81%\n",
      "Ep: 1/10\tIt: 301/468\tbatch_loss: 1.9089\tbatch_accuracy: 30.47%\n",
      "Ep: 1/10\tIt: 351/468\tbatch_loss: 1.8333\tbatch_accuracy: 35.94%\n",
      "Ep: 1/10\tIt: 401/468\tbatch_loss: 1.8103\tbatch_accuracy: 27.34%\n",
      "Ep: 1/10\tIt: 451/468\tbatch_loss: 1.9060\tbatch_accuracy: 24.22%\n",
      "Ep: 1/10\tIt: 468/468\tbatch_loss: 1.7949\tbatch_accuracy: 25.00%\n",
      "Training time for epoch 0 in minutes: 0.29\n",
      "------------\n",
      "Train acc: 25.14%\tTrain loss: 2.0050\n",
      "Test acc: 28.26%\tTest loss: 1.8861\n",
      "Best test acc: 28.26%\n",
      "New model saved!\n",
      "\n",
      "Ep: 2/10\tIt: 1/468\tbatch_loss: 1.8398\tbatch_accuracy: 30.47%\n",
      "Ep: 2/10\tIt: 51/468\tbatch_loss: 1.8124\tbatch_accuracy: 22.66%\n",
      "Ep: 2/10\tIt: 101/468\tbatch_loss: 1.7866\tbatch_accuracy: 24.22%\n",
      "Ep: 2/10\tIt: 151/468\tbatch_loss: 1.7638\tbatch_accuracy: 38.28%\n",
      "Ep: 2/10\tIt: 201/468\tbatch_loss: 1.5830\tbatch_accuracy: 37.50%\n",
      "Ep: 2/10\tIt: 251/468\tbatch_loss: 1.5323\tbatch_accuracy: 40.62%\n",
      "Ep: 2/10\tIt: 301/468\tbatch_loss: 1.5959\tbatch_accuracy: 41.41%\n",
      "Ep: 2/10\tIt: 351/468\tbatch_loss: 1.5793\tbatch_accuracy: 46.88%\n",
      "Ep: 2/10\tIt: 401/468\tbatch_loss: 1.4256\tbatch_accuracy: 44.53%\n",
      "Ep: 2/10\tIt: 451/468\tbatch_loss: 1.8350\tbatch_accuracy: 36.72%\n",
      "Ep: 2/10\tIt: 468/468\tbatch_loss: 1.5591\tbatch_accuracy: 46.09%\n",
      "Training time for epoch 1 in minutes: 0.28\n",
      "------------\n",
      "Train acc: 36.92%\tTrain loss: 1.6392\n",
      "Test acc: 39.04%\tTest loss: 1.6764\n",
      "Best test acc: 39.04%\n",
      "New model saved!\n",
      "\n",
      "Ep: 3/10\tIt: 1/468\tbatch_loss: 1.5904\tbatch_accuracy: 39.06%\n",
      "Ep: 3/10\tIt: 51/468\tbatch_loss: 1.4252\tbatch_accuracy: 44.53%\n",
      "Ep: 3/10\tIt: 101/468\tbatch_loss: 1.5872\tbatch_accuracy: 37.50%\n",
      "Ep: 3/10\tIt: 151/468\tbatch_loss: 1.3512\tbatch_accuracy: 56.25%\n",
      "Ep: 3/10\tIt: 201/468\tbatch_loss: 1.3509\tbatch_accuracy: 48.44%\n",
      "Ep: 3/10\tIt: 251/468\tbatch_loss: 1.1350\tbatch_accuracy: 59.38%\n",
      "Ep: 3/10\tIt: 301/468\tbatch_loss: 1.1748\tbatch_accuracy: 54.69%\n",
      "Ep: 3/10\tIt: 351/468\tbatch_loss: 1.1367\tbatch_accuracy: 60.16%\n",
      "Ep: 3/10\tIt: 401/468\tbatch_loss: 1.1152\tbatch_accuracy: 53.91%\n",
      "Ep: 3/10\tIt: 451/468\tbatch_loss: 1.0573\tbatch_accuracy: 67.97%\n",
      "Ep: 3/10\tIt: 468/468\tbatch_loss: 0.9800\tbatch_accuracy: 60.94%\n",
      "Training time for epoch 2 in minutes: 0.28\n",
      "------------\n",
      "Train acc: 53.95%\tTrain loss: 1.2562\n",
      "Test acc: 64.43%\tTest loss: 1.0292\n",
      "Best test acc: 64.43%\n",
      "New model saved!\n",
      "\n",
      "Ep: 4/10\tIt: 1/468\tbatch_loss: 1.1841\tbatch_accuracy: 54.69%\n",
      "Ep: 4/10\tIt: 51/468\tbatch_loss: 0.9495\tbatch_accuracy: 64.84%\n",
      "Ep: 4/10\tIt: 101/468\tbatch_loss: 0.9803\tbatch_accuracy: 65.62%\n",
      "Ep: 4/10\tIt: 151/468\tbatch_loss: 0.9873\tbatch_accuracy: 63.28%\n",
      "Ep: 4/10\tIt: 201/468\tbatch_loss: 1.0274\tbatch_accuracy: 63.28%\n",
      "Ep: 4/10\tIt: 251/468\tbatch_loss: 0.8570\tbatch_accuracy: 71.09%\n",
      "Ep: 4/10\tIt: 301/468\tbatch_loss: 0.8342\tbatch_accuracy: 73.44%\n",
      "Ep: 4/10\tIt: 351/468\tbatch_loss: 0.9520\tbatch_accuracy: 64.06%\n",
      "Ep: 4/10\tIt: 401/468\tbatch_loss: 0.9569\tbatch_accuracy: 64.06%\n",
      "Ep: 4/10\tIt: 451/468\tbatch_loss: 0.9187\tbatch_accuracy: 64.84%\n",
      "Ep: 4/10\tIt: 468/468\tbatch_loss: 0.7843\tbatch_accuracy: 72.66%\n",
      "Training time for epoch 3 in minutes: 0.28\n",
      "------------\n",
      "Train acc: 66.10%\tTrain loss: 0.9314\n",
      "Test acc: 70.27%\tTest loss: 0.8098\n",
      "Best test acc: 70.27%\n",
      "New model saved!\n",
      "\n",
      "Ep: 5/10\tIt: 1/468\tbatch_loss: 0.9128\tbatch_accuracy: 71.09%\n",
      "Ep: 5/10\tIt: 51/468\tbatch_loss: 0.8363\tbatch_accuracy: 71.09%\n",
      "Ep: 5/10\tIt: 101/468\tbatch_loss: 1.0205\tbatch_accuracy: 64.84%\n",
      "Ep: 5/10\tIt: 151/468\tbatch_loss: 0.7203\tbatch_accuracy: 71.09%\n",
      "Ep: 5/10\tIt: 201/468\tbatch_loss: 0.8243\tbatch_accuracy: 65.62%\n",
      "Ep: 5/10\tIt: 251/468\tbatch_loss: 0.8561\tbatch_accuracy: 70.31%\n",
      "Ep: 5/10\tIt: 301/468\tbatch_loss: 0.7108\tbatch_accuracy: 74.22%\n",
      "Ep: 5/10\tIt: 351/468\tbatch_loss: 0.8447\tbatch_accuracy: 72.66%\n",
      "Ep: 5/10\tIt: 401/468\tbatch_loss: 0.8440\tbatch_accuracy: 67.19%\n",
      "Ep: 5/10\tIt: 451/468\tbatch_loss: 0.6874\tbatch_accuracy: 72.66%\n",
      "Ep: 5/10\tIt: 468/468\tbatch_loss: 0.6394\tbatch_accuracy: 78.91%\n",
      "Training time for epoch 4 in minutes: 0.28\n",
      "------------\n",
      "Train acc: 69.91%\tTrain loss: 0.8139\n",
      "Test acc: 72.71%\tTest loss: 0.7350\n",
      "Best test acc: 72.71%\n",
      "New model saved!\n",
      "\n",
      "Ep: 6/10\tIt: 1/468\tbatch_loss: 0.8096\tbatch_accuracy: 69.53%\n",
      "Ep: 6/10\tIt: 51/468\tbatch_loss: 0.7485\tbatch_accuracy: 76.56%\n",
      "Ep: 6/10\tIt: 101/468\tbatch_loss: 0.6961\tbatch_accuracy: 74.22%\n",
      "Ep: 6/10\tIt: 151/468\tbatch_loss: 0.6661\tbatch_accuracy: 71.09%\n",
      "Ep: 6/10\tIt: 201/468\tbatch_loss: 0.9081\tbatch_accuracy: 60.16%\n",
      "Ep: 6/10\tIt: 251/468\tbatch_loss: 0.8819\tbatch_accuracy: 67.19%\n",
      "Ep: 6/10\tIt: 301/468\tbatch_loss: 0.8945\tbatch_accuracy: 68.75%\n",
      "Ep: 6/10\tIt: 351/468\tbatch_loss: 0.7598\tbatch_accuracy: 71.88%\n",
      "Ep: 6/10\tIt: 401/468\tbatch_loss: 0.6511\tbatch_accuracy: 71.88%\n",
      "Ep: 6/10\tIt: 451/468\tbatch_loss: 0.7066\tbatch_accuracy: 73.44%\n",
      "Ep: 6/10\tIt: 468/468\tbatch_loss: 0.7204\tbatch_accuracy: 74.22%\n",
      "Training time for epoch 5 in minutes: 0.28\n",
      "------------\n",
      "Train acc: 72.18%\tTrain loss: 0.7438\n",
      "Test acc: 75.75%\tTest loss: 0.6616\n",
      "Best test acc: 75.75%\n",
      "New model saved!\n",
      "\n",
      "Ep: 7/10\tIt: 1/468\tbatch_loss: 0.7521\tbatch_accuracy: 71.88%\n",
      "Ep: 7/10\tIt: 51/468\tbatch_loss: 0.9078\tbatch_accuracy: 61.72%\n",
      "Ep: 7/10\tIt: 101/468\tbatch_loss: 0.7291\tbatch_accuracy: 71.09%\n",
      "Ep: 7/10\tIt: 151/468\tbatch_loss: 0.9736\tbatch_accuracy: 64.84%\n",
      "Ep: 7/10\tIt: 201/468\tbatch_loss: 0.6626\tbatch_accuracy: 75.00%\n",
      "Ep: 7/10\tIt: 251/468\tbatch_loss: 0.7135\tbatch_accuracy: 67.19%\n",
      "Ep: 7/10\tIt: 301/468\tbatch_loss: 0.9219\tbatch_accuracy: 71.09%\n",
      "Ep: 7/10\tIt: 351/468\tbatch_loss: 0.7069\tbatch_accuracy: 73.44%\n",
      "Ep: 7/10\tIt: 401/468\tbatch_loss: 0.6740\tbatch_accuracy: 76.56%\n",
      "Ep: 7/10\tIt: 451/468\tbatch_loss: 0.6781\tbatch_accuracy: 75.78%\n",
      "Ep: 7/10\tIt: 468/468\tbatch_loss: 0.7605\tbatch_accuracy: 67.19%\n",
      "Training time for epoch 6 in minutes: 0.28\n",
      "------------\n",
      "Train acc: 73.74%\tTrain loss: 0.6985\n",
      "Test acc: 75.35%\tTest loss: 0.6433\n",
      "Best test acc: 75.75%\n",
      "Ep: 8/10\tIt: 1/468\tbatch_loss: 0.6049\tbatch_accuracy: 76.56%\n",
      "Ep: 8/10\tIt: 51/468\tbatch_loss: 0.5616\tbatch_accuracy: 80.47%\n",
      "Ep: 8/10\tIt: 101/468\tbatch_loss: 0.8076\tbatch_accuracy: 69.53%\n",
      "Ep: 8/10\tIt: 151/468\tbatch_loss: 0.6828\tbatch_accuracy: 75.00%\n",
      "Ep: 8/10\tIt: 201/468\tbatch_loss: 0.6361\tbatch_accuracy: 78.91%\n",
      "Ep: 8/10\tIt: 251/468\tbatch_loss: 0.5996\tbatch_accuracy: 75.78%\n",
      "Ep: 8/10\tIt: 301/468\tbatch_loss: 0.5915\tbatch_accuracy: 78.91%\n",
      "Ep: 8/10\tIt: 351/468\tbatch_loss: 0.6908\tbatch_accuracy: 75.00%\n",
      "Ep: 8/10\tIt: 401/468\tbatch_loss: 0.6534\tbatch_accuracy: 81.25%\n",
      "Ep: 8/10\tIt: 451/468\tbatch_loss: 0.6431\tbatch_accuracy: 78.12%\n",
      "Ep: 8/10\tIt: 468/468\tbatch_loss: 0.5701\tbatch_accuracy: 81.25%\n",
      "Training time for epoch 7 in minutes: 0.28\n",
      "------------\n",
      "Train acc: 75.10%\tTrain loss: 0.6657\n",
      "Test acc: 79.37%\tTest loss: 0.5670\n",
      "Best test acc: 79.37%\n",
      "New model saved!\n",
      "\n",
      "Ep: 9/10\tIt: 1/468\tbatch_loss: 0.6781\tbatch_accuracy: 72.66%\n",
      "Ep: 9/10\tIt: 51/468\tbatch_loss: 0.6442\tbatch_accuracy: 73.44%\n",
      "Ep: 9/10\tIt: 101/468\tbatch_loss: 0.6409\tbatch_accuracy: 75.00%\n",
      "Ep: 9/10\tIt: 151/468\tbatch_loss: 0.6377\tbatch_accuracy: 76.56%\n",
      "Ep: 9/10\tIt: 201/468\tbatch_loss: 0.6670\tbatch_accuracy: 73.44%\n",
      "Ep: 9/10\tIt: 251/468\tbatch_loss: 0.5570\tbatch_accuracy: 78.12%\n",
      "Ep: 9/10\tIt: 301/468\tbatch_loss: 0.6426\tbatch_accuracy: 73.44%\n",
      "Ep: 9/10\tIt: 351/468\tbatch_loss: 0.6040\tbatch_accuracy: 78.91%\n",
      "Ep: 9/10\tIt: 401/468\tbatch_loss: 0.6261\tbatch_accuracy: 77.34%\n",
      "Ep: 9/10\tIt: 451/468\tbatch_loss: 0.5702\tbatch_accuracy: 75.78%\n",
      "Ep: 9/10\tIt: 468/468\tbatch_loss: 0.6730\tbatch_accuracy: 75.00%\n",
      "Training time for epoch 8 in minutes: 0.28\n",
      "------------\n",
      "Train acc: 76.51%\tTrain loss: 0.6355\n",
      "Test acc: 79.08%\tTest loss: 0.5805\n",
      "Best test acc: 79.37%\n",
      "Ep: 10/10\tIt: 1/468\tbatch_loss: 0.7856\tbatch_accuracy: 71.09%\n",
      "Ep: 10/10\tIt: 51/468\tbatch_loss: 0.5072\tbatch_accuracy: 82.81%\n",
      "Ep: 10/10\tIt: 101/468\tbatch_loss: 0.6282\tbatch_accuracy: 71.88%\n",
      "Ep: 10/10\tIt: 151/468\tbatch_loss: 0.5069\tbatch_accuracy: 82.81%\n",
      "Ep: 10/10\tIt: 201/468\tbatch_loss: 0.5887\tbatch_accuracy: 82.81%\n",
      "Ep: 10/10\tIt: 251/468\tbatch_loss: 0.5835\tbatch_accuracy: 73.44%\n",
      "Ep: 10/10\tIt: 301/468\tbatch_loss: 0.7417\tbatch_accuracy: 74.22%\n",
      "Ep: 10/10\tIt: 351/468\tbatch_loss: 0.6751\tbatch_accuracy: 75.78%\n",
      "Ep: 10/10\tIt: 401/468\tbatch_loss: 0.5140\tbatch_accuracy: 79.69%\n",
      "Ep: 10/10\tIt: 451/468\tbatch_loss: 0.5512\tbatch_accuracy: 78.91%\n",
      "Ep: 10/10\tIt: 468/468\tbatch_loss: 0.6006\tbatch_accuracy: 75.78%\n",
      "Training time for epoch 9 in minutes: 0.28\n",
      "------------\n",
      "Train acc: 77.29%\tTrain loss: 0.6132\n",
      "Test acc: 81.30%\tTest loss: 0.5251\n",
      "Best test acc: 81.30%\n",
      "New model saved!\n",
      "\n",
      "Overall training time in minutes: 3.04 minutes on cuda for 10 epochs\n"
     ]
    }
   ],
   "source": [
    "# Train\n",
    "iters_per_epoch = len(train_loader)\n",
    "\n",
    "# Define optimizer for training the model\n",
    "optimizer = optim.AdamW(model.parameters(), lr=LR, weight_decay=1e-3)\n",
    "\n",
    "# Define loss function\n",
    "loss_fn = nn.CrossEntropyLoss()\n",
    "\n",
    "# scheduler for linear warmup of lr and then cosine decay\n",
    "linear_warmup = optim.lr_scheduler.LinearLR(optimizer, start_factor=1/WARMUP_EPOCHS, end_factor=1.0, total_iters=WARMUP_EPOCHS-1, last_epoch=-1)\n",
    "cos_decay = optim.lr_scheduler.CosineAnnealingLR(optimizer=optimizer, T_max=EPOCHS-WARMUP_EPOCHS, eta_min=1e-5)\n",
    "\n",
    "# Variable to capture best test accuracy\n",
    "best_acc = 0\n",
    "\n",
    "train_start_time = time.time()\n",
    "\n",
    "# Training loop\n",
    "for epoch in range(EPOCHS):\n",
    "    \n",
    "    start_time = time.time()\n",
    "    # Set model to training mode\n",
    "    model.train()\n",
    "\n",
    "    # Arrays to record epoch loss and accuracy\n",
    "    train_epoch_loss = []\n",
    "    train_epoch_accuracy = []\n",
    "\n",
    "    # Loop on loader\n",
    "    for i, (x, y) in enumerate(train_loader):\n",
    "\n",
    "        # Push to GPU\n",
    "        x, y = x.cuda(), y.cuda()\n",
    "\n",
    "        # Get output logits from the model \n",
    "        logits = model(x)\n",
    "\n",
    "        # Compute training loss\n",
    "        loss = loss_fn(logits, y)\n",
    "\n",
    "        # Updating the model\n",
    "        optimizer.zero_grad()\n",
    "        loss.backward()\n",
    "        optimizer.step()\n",
    "\n",
    "        # Batch metrics\n",
    "        batch_pred = logits.max(1)[1]\n",
    "        batch_accuracy = (y==batch_pred).float().mean()\n",
    "        train_epoch_loss += [loss.item()]\n",
    "        train_epoch_accuracy += [batch_accuracy.item()]\n",
    "\n",
    "        # Log training progress\n",
    "        if i % 50 == 0 or i == (iters_per_epoch - 1):\n",
    "            print(f'Ep: {epoch+1}/{EPOCHS}\\tIt: {i+1}/{iters_per_epoch}\\tbatch_loss: {loss:.4f}\\tbatch_accuracy: {batch_accuracy:.2%}')\n",
    "\n",
    "    end_time = time.time()\n",
    "\n",
    "    # Print elapsed time for the epoch\n",
    "    print(f\"Training time for epoch {epoch} in minutes: {(end_time - start_time) / 60:.2f}\")\n",
    "\n",
    "    # Print train acc and loss\n",
    "    print('------------')\n",
    "    print(f\"Train acc: {sum(train_epoch_accuracy)/iters_per_epoch:.2%}\\tTrain loss: {sum(train_epoch_loss)/iters_per_epoch:.4f}\")\n",
    "    \n",
    "    # Test the test set after every epoch\n",
    "    test_acc, test_loss = test(model,loss_fn,train_loader,test_loader)\n",
    "    \n",
    "    # Capture best test accuracy\n",
    "    best_acc = max(test_acc, best_acc)\n",
    "    print(f\"Best test acc: {best_acc:.2%}\")\n",
    "\n",
    "    # Save model if accuracy improves\n",
    "    if test_acc >= best_acc:\n",
    "        torch.save(model.state_dict(), os.path.join(MODEL_PATH, \"ViT_model.pt\"))\n",
    "        print('New model saved!\\n')\n",
    "    \n",
    "    # Update learning rate using schedulers\n",
    "    if epoch < WARMUP_EPOCHS:\n",
    "        linear_warmup.step()\n",
    "    else:\n",
    "        cos_decay.step()\n",
    "\n",
    "    # Update training progression metric arrays\n",
    "    train_losses += [sum(train_epoch_loss)/iters_per_epoch]\n",
    "    test_losses += [test_loss]\n",
    "    train_accuracies += [sum(train_epoch_accuracy)/iters_per_epoch]\n",
    "    test_accuracies += [test_acc]\n",
    "\n",
    "train_end_time = time.time()\n",
    "# overall training time\n",
    "print(f\"Overall training time in minutes: {(train_end_time - train_start_time) / 60:.2f} minutes on {device} for {EPOCHS} epochs\")"
   ]
  },
  {
   "cell_type": "code",
   "execution_count": 23,
   "id": "e46b4f51-29fb-42ef-85c1-05addc9e1773",
   "metadata": {},
   "outputs": [
    {
     "data": {
      "image/png": "[encoded data removed]",
      "text/plain": [
       "<Figure size 640x480 with 1 Axes>"
      ]
     },
     "metadata": {},
     "output_type": "display_data"
    }
   ],
   "source": [
    "# Plot graph of loss values\n",
    "plt.plot(train_losses, label='Train')\n",
    "plt.plot(test_losses, label='Test')\n",
    "\n",
    "plt.ylabel('Loss', fontsize = 18)\n",
    "plt.yticks(fontsize=16)\n",
    "plt.xlabel('Epoch', fontsize = 18)\n",
    "plt.xticks(fontsize=16)\n",
    "plt.legend(fontsize=15, frameon=False)\n",
    "\n",
    "plt.show()"
   ]
  },
  {
   "cell_type": "code",
   "execution_count": 24,
   "id": "d64d63da-b763-4c76-b854-63a01ec5847c",
   "metadata": {},
   "outputs": [
    {
     "data": {
      "image/png": "[encoded data removed]",
      "text/plain": [
       "<Figure size 640x480 with 1 Axes>"
      ]
     },
     "metadata": {},
     "output_type": "display_data"
    }
   ],
   "source": [
    "# Plot graph of accuracies\n",
    "plt.plot(train_accuracies, label='Train')\n",
    "plt.plot(test_accuracies, label='Test')\n",
    "\n",
    "plt.ylabel('Accuracy', fontsize = 18)\n",
    "plt.yticks(fontsize=16)\n",
    "plt.xlabel('Epoch', fontsize = 18)\n",
    "plt.xticks(fontsize=16)\n",
    "plt.legend(fontsize=15, frameon=False)\n",
    "\n",
    "plt.show()"
   ]
  },
  {
   "cell_type": "code",
   "execution_count": 25,
   "id": "464f730c-d208-47ee-92a8-50b40b3aabf0",
   "metadata": {},
   "outputs": [],
   "source": [
    "# function for predicting the class for a given batch by a trained model\n",
    "def predict_batch(model, batch, binary=True):\n",
    "    model.eval()\n",
    "    with torch.no_grad():\n",
    "        batch = batch.to(device)\n",
    "        #predict\n",
    "        outputs = model(batch)\n",
    "        # Get the prediction by selecting the class with the highest probability\n",
    "        if binary:\n",
    "#            predicted = torch.sigmoid(outputs)\n",
    "            predicted = torch.round(outputs)\n",
    "        else:\n",
    "#            predicted = torch.softmax(outputs, 1)\n",
    "            _, predicted = torch.max(outputs, 1)\n",
    "        return predicted.cpu(), outputs.cpu()"
   ]
  },
  {
   "cell_type": "code",
   "execution_count": 26,
   "id": "69c8dc60-fd6b-4f92-b438-cd64425b41e8",
   "metadata": {},
   "outputs": [
    {
     "data": {
      "text/plain": [
       "VisionTransformer(\n",
       "  (embedding): EmbedLayer(\n",
       "    (conv1): Conv2d(1, 64, kernel_size=(4, 4), stride=(4, 4))\n",
       "    (dropout): Dropout(p=0.1, inplace=False)\n",
       "  )\n",
       "  (encoder): ModuleList(\n",
       "    (0-5): 6 x Encoder(\n",
       "      (norm1): LayerNorm((64,), eps=1e-05, elementwise_affine=True)\n",
       "      (attention): SelfAttention(\n",
       "        (queries): Linear(in_features=64, out_features=64, bias=True)\n",
       "        (keys): Linear(in_features=64, out_features=64, bias=True)\n",
       "        (values): Linear(in_features=64, out_features=64, bias=True)\n",
       "        (out_projection): Linear(in_features=64, out_features=64, bias=True)\n",
       "      )\n",
       "      (dropout1): Dropout(p=0.1, inplace=False)\n",
       "      (norm2): LayerNorm((64,), eps=1e-05, elementwise_affine=True)\n",
       "      (fc1): Linear(in_features=64, out_features=128, bias=True)\n",
       "      (activation): GELU(approximate='none')\n",
       "      (fc2): Linear(in_features=128, out_features=64, bias=True)\n",
       "      (dropout2): Dropout(p=0.1, inplace=False)\n",
       "    )\n",
       "  )\n",
       "  (norm): LayerNorm((64,), eps=1e-05, elementwise_affine=True)\n",
       "  (classifier): Classifier(\n",
       "    (fc1): Linear(in_features=64, out_features=64, bias=True)\n",
       "    (activation): Tanh()\n",
       "    (fc2): Linear(in_features=64, out_features=10, bias=True)\n",
       "  )\n",
       ")"
      ]
     },
     "execution_count": 26,
     "metadata": {},
     "output_type": "execute_result"
    }
   ],
   "source": [
    "model.load_state_dict(torch.load(os.path.join(MODEL_PATH, \"ViT_model.pt\")))\n",
    "model.to(device)"
   ]
  },
  {
   "cell_type": "code",
   "execution_count": 27,
   "id": "e4236880-4969-4e13-9955-3ca3ce433dfc",
   "metadata": {},
   "outputs": [
    {
     "name": "stdout",
     "output_type": "stream",
     "text": [
      "Predictions:\t\t tensor([4, 9, 6, 9, 6, 3, 4, 2, 6, 2, 5, 6, 4, 2, 8, 4])\n",
      "Labels (ground truth):\t tensor([3, 7, 6, 7, 2, 1, 2, 2, 4, 4, 5, 8, 2, 2, 8, 4])\n"
     ]
    }
   ],
   "source": [
    "offset = 42\n",
    "# test on images offset to offset+16 of the first set\n",
    "batch_test = next(iter(test_loader))\n",
    "\n",
    "preds, _ = predict_batch(model, batch_test[0][offset:offset+16], binary=False)\n",
    "\n",
    "print(f'Predictions:\\t\\t {preds}')\n",
    "print(f'Labels (ground truth):\\t {batch_test[1][offset:offset+16]}')"
   ]
  },
  {
   "cell_type": "code",
   "execution_count": 28,
   "id": "335b1829-0522-44d0-8d01-97593e5286d0",
   "metadata": {},
   "outputs": [
    {
     "data": {
      "image/png": "[encoded data removed]",
      "text/plain": [
       "<Figure size 800x800 with 16 Axes>"
      ]
     },
     "metadata": {},
     "output_type": "display_data"
    }
   ],
   "source": [
    "# visual check\n",
    "with plt.ioff(): # only show the plot when prompted explicitly\n",
    "    fig = plt.figure(figsize=(8, 8))\n",
    "    for i in range(16):\n",
    "        pred = preds[i]\n",
    "        label = batch_test[1][offset+i]\n",
    "        pred_txt = labels_map[int(pred)]\n",
    "        label_txt = labels_map[int(label)]\n",
    "        \n",
    "        correct = pred == label\n",
    "        ax = fig.add_subplot(4, 4, i+1)\n",
    "        ax.set_xticks([]); ax.set_yticks([])\n",
    "        img = batch_test[0][offset+i].view(28, 28)\n",
    "        ax.imshow(img, cmap='gray_r');\n",
    "        ax.text(0.25, 1.1, '{}'.format(label_txt), \n",
    "                size=8, color='green',\n",
    "                horizontalalignment='center',\n",
    "                verticalalignment='center', \n",
    "                transform=ax.transAxes)\n",
    "        ax.text(0.75, 1.1, '{}'.format(pred_txt), \n",
    "                size=8, color='blue' if correct else 'red',\n",
    "                horizontalalignment='center',\n",
    "                verticalalignment='center', \n",
    "                transform=ax.transAxes)\n",
    "        ax.text(0.45, 0.05, '{}'.format('Correct' if correct else 'Incorrect'), \n",
    "            size=10, color='blue' if correct else 'red',\n",
    "            horizontalalignment='center',\n",
    "            verticalalignment='center', \n",
    "            transform=ax.transAxes)\n",
    "\n",
    "plt.show()"
   ]
  },
  {
   "cell_type": "code",
   "execution_count": null,
   "id": "a39e8430-3d69-43de-89a3-8a4dae8d4fcb",
   "metadata": {},
   "outputs": [],
   "source": []
  },
  {
   "cell_type": "code",
   "execution_count": 29,
   "id": "34c6b10a-8ef7-46e3-83dc-e19665e701e5",
   "metadata": {},
   "outputs": [],
   "source": [
    "def rollout(attentions, discard_ratio, head_fusion, layer):\n",
    "    result = torch.eye(attentions[0].size(-1))\n",
    "    with torch.no_grad():\n",
    "        for attention in attentions:\n",
    "            if head_fusion == \"mean\":\n",
    "                attention_heads_fused = attention.mean(axis=0)\n",
    "            elif head_fusion == \"max\":\n",
    "                attention_heads_fused = attention.max(axis=0)[0]\n",
    "            elif head_fusion == \"min\":\n",
    "                attention_heads_fused = attention.min(axis=0)[0]\n",
    "            else:\n",
    "                raise \"Attention head fusion type Not supported\"\n",
    "\n",
    "            # Drop the lowest attentions, but\n",
    "            # don't drop the class token\n",
    "            flat = attention_heads_fused.view(attention_heads_fused.size(0), -1)\n",
    "            _, indices = flat.topk(int(flat.size(-1)*discard_ratio), -1, False)\n",
    "            indices = indices[indices != 0]\n",
    "            flat[0, indices] = 0\n",
    "\n",
    "            I = torch.eye(attention_heads_fused.size(-1))\n",
    "            print(I.shape)\n",
    "            print(attention_heads_fused.shape)\n",
    "            I = I.to(device)\n",
    "            a = (attention_heads_fused + 1.0*I)/2\n",
    "            a = a / a.sum(dim=-1)\n",
    "\n",
    "            result = result.to(device)\n",
    "            result = torch.matmul(a, result)\n",
    "\n",
    "    # result = result[layer]\n",
    "    print(result.shape)\n",
    "    attn_heatmap = result[0, 1:].reshape((int(IMAGE_SIZE/PATCH_SIZE), int(IMAGE_SIZE/PATCH_SIZE)))\n",
    "    attn_heatmap_resized = F.interpolate(attn_heatmap.unsqueeze(0).unsqueeze(0), [IMAGE_SIZE, IMAGE_SIZE], mode='bilinear').view(28, 28, 1)\n",
    "    return attn_heatmap_resized\n"
   ]
  },
  {
   "cell_type": "code",
   "execution_count": 30,
   "id": "7d1ec743-6c4b-46f2-a19d-4ebcf7da4c45",
   "metadata": {},
   "outputs": [],
   "source": [
    "def attention_matrix_show(model, datapoint, aggregate, discard_ratio, layer):\n",
    "    datapoint = datapoint.to(device)\n",
    "    output, x_attention = model(datapoint, return_attention=True)\n",
    "\n",
    "    fig, aa = plt.subplots(1, layer + 1, figsize=(15, 5))\n",
    "\n",
    "\n",
    "    aa[0].imshow(datapoint[0].permute(1, 2, 0).cpu().numpy(), cmap=\"gray\")\n",
    "    aa[0].axis('off')\n",
    "\n",
    "    for layer in range(layer):\n",
    "        heatmap = rollout(x_attention, discard_ratio=discard_ratio, head_fusion=aggregate, layer=layer)\n",
    "        aa[layer + 1].imshow(heatmap.cpu().numpy(), cmap='viridis')\n",
    "        aa[layer + 1].set_title(f'{layer}')\n",
    "        aa[layer + 1].axis('off')\n",
    "\n",
    "    plt.tight_layout()\n",
    "    plt.show()"
   ]
  },
  {
   "cell_type": "code",
   "execution_count": 31,
   "id": "00925f68-44b1-4e44-95da-f2ba2769dc60",
   "metadata": {},
   "outputs": [
    {
     "name": "stdout",
     "output_type": "stream",
     "text": [
      "torch.Size([50, 50])\n",
      "torch.Size([50, 50])\n",
      "torch.Size([50, 50])\n"
     ]
    },
    {
     "data": {
      "image/png": "[encoded data removed]",
      "text/plain": [
       "<Figure size 1500x500 with 2 Axes>"
      ]
     },
     "metadata": {},
     "output_type": "display_data"
    }
   ],
   "source": [
    "batch_test = next(iter(test_loader))\n",
    "datapoint = batch_test[0][17:18]\n",
    "attention_matrix_show(model, datapoint, \"min\", 0.0, 1)"
   ]
  },
  {
   "cell_type": "markdown",
   "id": "fac34c50-efc4-4667-b163-5ffb018ec465",
   "metadata": {},
   "source": [
    "With the \"min\" aggregation, we can identify a focus on the mid lower side of the image for identification."
   ]
  },
  {
   "cell_type": "code",
   "execution_count": 34,
   "id": "da9a2add-ff3b-415c-9f2a-b91225872842",
   "metadata": {},
   "outputs": [
    {
     "name": "stdout",
     "output_type": "stream",
     "text": [
      "torch.Size([50, 50])\n",
      "torch.Size([50, 50])\n",
      "torch.Size([50, 50])\n"
     ]
    },
    {
     "data": {
      "image/png": "[encoded data removed]",
      "text/plain": [
       "<Figure size 1500x500 with 2 Axes>"
      ]
     },
     "metadata": {},
     "output_type": "display_data"
    }
   ],
   "source": [
    "attention_matrix_show(model, datapoint, \"mean\", 0.0, 1)"
   ]
  },
  {
   "cell_type": "markdown",
   "id": "9a5f1d8c-1029-4153-965b-191f8f67caa6",
   "metadata": {},
   "source": [
    "Now with the \"mean\" aggregation, we see a shift on the identification focus to 3 points which are very different from the \"min\" aggregation."
   ]
  },
  {
   "cell_type": "code",
   "execution_count": 35,
   "id": "669727a9-4152-497c-b697-5ad107433775",
   "metadata": {},
   "outputs": [
    {
     "name": "stdout",
     "output_type": "stream",
     "text": [
      "torch.Size([50, 50])\n",
      "torch.Size([50, 50])\n",
      "torch.Size([50, 50])\n"
     ]
    },
    {
     "data": {
      "image/png": "[encoded data removed]",
      "text/plain": [
       "<Figure size 1500x500 with 2 Axes>"
      ]
     },
     "metadata": {},
     "output_type": "display_data"
    }
   ],
   "source": [
    "attention_matrix_show(model, datapoint, \"max\", 0.0, 1)"
   ]
  },
  {
   "cell_type": "markdown",
   "id": "5004ae26-5eb7-455c-82a6-4b46ead3f687",
   "metadata": {},
   "source": [
    "The \"max\" aggregation is similar to the \"mean\", but shifts some of the focus from the 2 middle points to the lower right one for indentification."
   ]
  },
  {
   "cell_type": "markdown",
   "id": "31119832-f1f3-481d-8c0e-d1b25397dae4",
   "metadata": {},
   "source": [
    "## Task 3: Using the inductive bias of CNNs to support the training of ViTs\r\n",
    "As task 1 has shown, the lack of an inductive bias can be a blessing and a curse. While such models excel on huge datasets, it is especially problematic on smaller datasets. In this task you should combine the a CNN and ViT technology to create *the best of two worlds*.\r\n",
    "\r\n",
    "In the 2021 paper [Training data-efficient image transformers & distillation through attention](https://arxiv.org/pdf/2012.12877), Meta AI did exactly that: combining CNN and ViT to achieve a very high performing model with good convergence properties. This was done by using [knowledge distillation](https://en.wikipedia.org/wiki/Knowledge_distillation). A CNN model was trained first and used as a teacher for a ViT student model. With the teachers guidance, the ViT student achieves better performance with shorter training times. **This is exactly what you should be doing in this task!** It is therefore strongly advised that you read the [original paper](https://arxiv.org/pdf/2012.12877). The [paper on knowledge distillation](https://arxiv.org/pdf/1503.02531) by Geoffrey Hinton, Oriol Vinyals, and Jeff Dean could also help to understand this technology!\r\n",
    "\r\n",
    "Here are some more **implementations** that might help you with the task:\r\n",
    "\r\n",
    "* [DeiT implementation of Francesco Saverio](https://github.com/FrancescoSaverioZuppichini/DeiT)\r\n",
    "* [DeiT implementation of Shuqi Huang](https://github.com/jiaowoguanren0615/Deit-Pytorch/blob/main/DeiT/models/deitv1.py)\r\n",
    "* [Official DeiT implementation by Meta](https://github.com/facebookresearch/deit/blob/main/models_v2.py)\r\n",
    "\r\n",
    "### Task 3.1: Training a teacher model\r\n",
    "To distill knowledge from a strong teacher model, you first need to train such a model!\r\n",
    "\r\n",
    "* <span style=\"color:blue\">Set up a standard CNN model in PyTorch to train on the fashion mnist dataset.</span>\r\n",
    "* <span style=\"color:blue\">You can use the CNN from the introduction to CNN models. It should already have the correct layer formats, since we originally used it on the mnist dataset.</span>\r\n",
    "* <span style=\"color:blue\">Use any training loop to train and evaluate the CNN model. How does it compare to the ViT from the material notebook? <i>Hint: it needs to be better to actually work as a teacher model!</i> </span>\r\n",
    "* <span style=\"color:blue\">Save the model weights for later use in <code>teacher_model.pt</code></span>\r\n",
    "* <span style=\"color:blue\">Interpret your findings!</span>"
   ]
  },
  {
   "cell_type": "code",
   "execution_count": 44,
   "id": "ee3a5ab8-2531-4930-bc9b-0bcf84d5dece",
   "metadata": {},
   "outputs": [
    {
     "name": "stdout",
     "output_type": "stream",
     "text": [
      "Epoch 1, Loss: 0.4766434431393772\n",
      "Epoch 2, Loss: 0.3025954280421932\n",
      "Epoch 3, Loss: 0.2543912494837094\n",
      "Epoch 4, Loss: 0.22196558335108924\n",
      "Epoch 5, Loss: 0.19814525817090006\n",
      "Epoch 6, Loss: 0.17500961571534687\n",
      "Epoch 7, Loss: 0.15867474422589548\n",
      "Epoch 8, Loss: 0.14096466681636027\n",
      "Epoch 9, Loss: 0.1272911136852764\n",
      "Epoch 10, Loss: 0.11545514917747775\n",
      "Model training complete and weights saved to models/teacher_model.pt\n"
     ]
    }
   ],
   "source": [
    "import torch\n",
    "import torch.nn as nn\n",
    "import torch.optim as optim\n",
    "from torchvision import datasets, transforms\n",
    "from torch.utils.data import DataLoader\n",
    "import os\n",
    "\n",
    "# Define the CNN architecture for the teacher model\n",
    "class CNN(nn.Module):\n",
    "    def __init__(self):\n",
    "        super(CNN, self).__init__()\n",
    "        self.conv1 = nn.Conv2d(1, 32, kernel_size=3, padding=1)\n",
    "        self.conv2 = nn.Conv2d(32, 64, kernel_size=3, padding=1)\n",
    "        self.pool = nn.MaxPool2d(kernel_size=2, stride=2, padding=0)\n",
    "        self.fc1 = nn.Linear(64 * 7 * 7, 128)\n",
    "        self.fc2 = nn.Linear(128, 10)\n",
    "        self.dropout = nn.Dropout(0.25)\n",
    "\n",
    "    def forward(self, x):\n",
    "        x = self.pool(nn.ReLU()(self.conv1(x)))\n",
    "        x = self.pool(nn.ReLU()(self.conv2(x)))\n",
    "        x = x.view(-1, 64 * 7 * 7)\n",
    "        x = nn.ReLU()(self.fc1(x))\n",
    "        x = self.dropout(x)\n",
    "        x = self.fc2(x)\n",
    "        return x\n",
    "\n",
    "# Instantiate the model, define the loss function and the optimizer\n",
    "teacher_model = CNN()\n",
    "criterion = nn.CrossEntropyLoss()\n",
    "optimizer = optim.Adam(teacher_model.parameters(), lr=0.001)\n",
    "\n",
    "# Define transformations for the training data and testing data\n",
    "transform = transforms.Compose([transforms.ToTensor(), transforms.Normalize((0.5,), (0.5,))])\n",
    "\n",
    "# Download and load the training data\n",
    "trainset = datasets.FashionMNIST(root='./data', train=True, download=True, transform=transform)\n",
    "trainloader = DataLoader(trainset, batch_size=64, shuffle=True)\n",
    "\n",
    "# Download and load the test data\n",
    "testset = datasets.FashionMNIST(root='./data', train=False, download=True, transform=transform)\n",
    "testloader = DataLoader(testset, batch_size=64, shuffle=False)\n",
    "\n",
    "# Training the model\n",
    "epochs = 10\n",
    "for epoch in range(epochs):\n",
    "    running_loss = 0.0\n",
    "    for images, labels in trainloader:\n",
    "        optimizer.zero_grad()\n",
    "        outputs = teacher_model(images)\n",
    "        loss = criterion(outputs, labels)\n",
    "        loss.backward()\n",
    "        optimizer.step()\n",
    "        running_loss += loss.item()\n",
    "    print(f\"Epoch {epoch+1}, Loss: {running_loss/len(trainloader)}\")\n",
    "\n",
    "# Create the models directory if it doesn't exist\n",
    "os.makedirs('models', exist_ok=True)\n",
    "\n",
    "# Save the model weights in the models directory\n",
    "teacher_model_path = os.path.join('models', 'teacher_model.pt')\n",
    "torch.save(teacher_model.state_dict(), teacher_model_path)\n",
    "\n",
    "print(f\"Model training complete and weights saved to {teacher_model_path}\")\n"
   ]
  },
  {
   "cell_type": "markdown",
   "id": "fc44e596-f34b-433f-8799-953b2d4e4a5e",
   "metadata": {},
   "source": [
    "<b>Evaluation:</b> \n",
    "<br>\n",
    "In Epoch 1, the initial loss starts at 0.4766, which is normal since the model begins with random settings. By the middle of the training, the loss drops to 0.1981, showing that the model is learning well. By the end of the training, the loss decreases further to 0.1155, indicating the model is improving a lot. This steady decrease in loss means the model is understanding the data without overfitting, as the loss keeps going down smoothly without any sudden increases or leveling off."
   ]
  },
  {
   "cell_type": "markdown",
   "id": "8f5f2195-cfa3-4fc6-b4df-24b4dc0991df",
   "metadata": {},
   "source": [
    "### Task 3.2: Distillation loss\n",
    "To use knowledge distillation you need to use a new loss function. This function should combine the student and teacher loss.\n",
    "\n",
    "* <span style=\"color:blue\">Implement a <code>HardDistillationLoss</code> function, which combines the student and teacher loss and weighs them with 0.5 each.</span>\n",
    "* <span style=\"color:blue\">The function should use \"hard\" labels (see the <a href=\"https://arxiv.org/pdf/2012.12877\">paper</a> for hints).</span>\n",
    "* <span style=\"color:blue\">Use <code>CrossEntropyLoss</code>.</span>"
   ]
  },
  {
   "cell_type": "code",
   "execution_count": 45,
   "id": "6ad36d7e-a6e0-46df-be8e-e7169eaa83fb",
   "metadata": {},
   "outputs": [],
   "source": [
    "class HardDistillationLoss(nn.Module):\n",
    "    def __init__(self, alpha=0.5):\n",
    "        super(HardDistillationLoss, self).__init__()\n",
    "        self.alpha = alpha\n",
    "        self.criterion = nn.CrossEntropyLoss()\n",
    "\n",
    "    def forward(self, student_outputs, teacher_outputs, labels):\n",
    "        # Hard labels from the teacher\n",
    "        _, hard_labels = torch.max(teacher_outputs, dim=1)\n",
    "        \n",
    "        student_loss = self.criterion(student_outputs, labels)\n",
    "        teacher_loss = self.criterion(student_outputs, hard_labels)\n",
    "        \n",
    "        loss = self.alpha * student_loss + (1 - self.alpha) * teacher_loss\n",
    "        return loss\n"
   ]
  },
  {
   "cell_type": "markdown",
   "id": "3ad63658-1b6d-4898-9950-0e2d170ae35a",
   "metadata": {},
   "source": [
    "### Task 3.3: Changing the ViT architecture to allow distillation\n",
    "The distillation procedure in the [paper](https://arxiv.org/pdf/2012.12877) works by introducing a distillation token, which plays the same role as the class token, except that it aims at reproducing the label estimated by the teacher. Both tokens interact in the transformer through attention. In this task you should change the ViT architecture to integrate this token!\n",
    "\n",
    "\n",
    "* <span style=\"color:blue\">Add a distillation token to the <code>EmbedLayer</code>. This works the same way as the classification token. You can also initialize it as a <code>nn.Parameter</code> with <code>torch.zeros</code>. </span>\n",
    "* <span style=\"color:blue\">Think about what needs to be changed for the <code>pos_embedding</code>!</span>\n",
    "* <span style=\"color:blue\">Change the <code>Classifier</code> class to use the classification token <i>and</i> distillation token for prediction. <b>Add a linear layer</b> to project the distillation token (you dont need 2 layers and activation function here, just the linear layer is enough). During training, the <code>Classifier</code> should output the classification <b>and</b> the distillation projection, which will be used by the loss function from task 3.2. During inference, both outputs should be averaged. </span>\n",
    "* <span style=\"color:blue\">Name your new model <code>MyDeiT</code>. </span>"
   ]
  },
  {
   "cell_type": "code",
   "execution_count": 46,
   "id": "1ece74e5-17a5-4484-888a-c9959e18bee2",
   "metadata": {},
   "outputs": [],
   "source": [
    "class MyDeiT(nn.Module):\n",
    "    def __init__(self, embed_dim, num_classes):\n",
    "        super(MyDeiT, self).__init__()\n",
    "        self.embed_dim = embed_dim\n",
    "        self.num_classes = num_classes\n",
    "\n",
    "        # Add class token and distillation token\n",
    "        self.class_token = nn.Parameter(torch.zeros(1, 1, embed_dim))\n",
    "        self.distill_token = nn.Parameter(torch.zeros(1, 1, embed_dim))\n",
    "        \n",
    "        self.patch_embeddings = nn.Conv2d(1, embed_dim, kernel_size=16, stride=16)  # Adjusted to 1 channel input\n",
    "        self.position_embeddings = nn.Parameter(torch.zeros(1, 2 + 1, embed_dim))  # Adjust size for patches and tokens\n",
    "        \n",
    "        encoder_layers = nn.TransformerEncoderLayer(d_model=embed_dim, nhead=12, batch_first=True)\n",
    "        self.transformer_encoder = nn.TransformerEncoder(encoder_layers, num_layers=12)\n",
    "        \n",
    "        self.classifier = nn.Linear(embed_dim, num_classes)\n",
    "        self.distill_classifier = nn.Linear(embed_dim, num_classes)\n",
    "        \n",
    "    def forward(self, x):\n",
    "        batch_size = x.size(0)\n",
    "        \n",
    "        # Patch embedding\n",
    "        x = self.patch_embeddings(x)  # (B, E, H, W)\n",
    "        x = x.flatten(2)  # (B, E, N)\n",
    "        x = x.transpose(1, 2)  # (B, N, E)\n",
    "        \n",
    "        # Concatenate class token and distillation token\n",
    "        cls_tokens = self.class_token.expand(batch_size, -1, -1)\n",
    "        distill_tokens = self.distill_token.expand(batch_size, -1, -1)\n",
    "        x = torch.cat((cls_tokens, distill_tokens, x), dim=1)  # (B, 2 + N, E)\n",
    "        \n",
    "        x = x + self.position_embeddings\n",
    "        x = self.transformer_encoder(x)\n",
    "        \n",
    "        # Separate the class token and distillation token\n",
    "        cls_output = x[:, 0]\n",
    "        distill_output = x[:, 1]\n",
    "        \n",
    "        # Classifier output\n",
    "        cls_logits = self.classifier(cls_output)\n",
    "        distill_logits = self.distill_classifier(distill_output)\n",
    "        \n",
    "        return cls_logits, distill_logits\n"
   ]
  },
  {
   "cell_type": "markdown",
   "id": "643482f8-4a52-4ea2-8501-fb3f33c7e98e",
   "metadata": {},
   "source": [
    "### Task 3.4: Train your own DeiT model\r\n",
    "\r\n",
    "* <span style=\"color:blue\">Initialize a student model based on your new <code>MyDeiT</code> class. Use the same parameter configuration as before. </span>\r\n",
    "* <span style=\"color:blue\">Train the student model with the <code>HardDistillationLoss</code> you built in task 3.2!</span>\r\n",
    "* <span style=\"color:blue\">Your training loop might need to account for the second output (the distillation token) when making batch predictions during <code>train()</code> mode. </span>\r\n",
    "* <span style=\"color:blue\">Interpret your results!</span>"
   ]
  },
  {
   "cell_type": "code",
   "execution_count": 50,
   "id": "1920c90c-1351-4cc6-aec5-41bdace2af27",
   "metadata": {},
   "outputs": [
    {
     "name": "stdout",
     "output_type": "stream",
     "text": [
      "Epoch [1/10], Loss: 0.7091232739023562\n",
      "Epoch [2/10], Loss: 0.5746284640991866\n",
      "Epoch [3/10], Loss: 0.5240462121011605\n",
      "Epoch [4/10], Loss: 0.4949278378569241\n",
      "Epoch [5/10], Loss: 0.4614460648122881\n",
      "Epoch [6/10], Loss: 0.4437265270459118\n",
      "Epoch [7/10], Loss: 0.419847833242879\n",
      "Epoch [8/10], Loss: 0.3956022120233792\n",
      "Epoch [9/10], Loss: 0.3838225802077032\n",
      "Epoch [10/10], Loss: 0.3663586629574487\n",
      "Student model training complete and weights saved to models/student_model.pth\n"
     ]
    }
   ],
   "source": [
    "import torch.optim as optim\n",
    "\n",
    "# Initialize student model\n",
    "student_model = MyDeiT(embed_dim=768, num_classes=10) \n",
    "\n",
    "# Loss function\n",
    "criterion = HardDistillationLoss(alpha=0.5)\n",
    "\n",
    "# Optimizer\n",
    "optimizer = optim.Adam(student_model.parameters(), lr=1e-4)\n",
    "\n",
    "# Training loop for the student model\n",
    "num_epochs = 10  \n",
    "student_model.train()\n",
    "\n",
    "for epoch in range(num_epochs):\n",
    "    running_loss = 0.0\n",
    "    for images, labels in trainloader:\n",
    "        optimizer.zero_grad()\n",
    "        \n",
    "        # Forward pass\n",
    "        student_cls_logits, student_distill_logits = student_model(images)\n",
    "        with torch.no_grad():\n",
    "            teacher_outputs = teacher_model(images)\n",
    "        \n",
    "        # Compute loss\n",
    "        loss = criterion(student_cls_logits, teacher_outputs, labels)\n",
    "        \n",
    "        # Backward pass and optimize\n",
    "        loss.backward()\n",
    "        optimizer.step()\n",
    "        \n",
    "        running_loss += loss.item()\n",
    "    print(f\"Epoch [{epoch+1}/{num_epochs}], Loss: {running_loss/len(trainloader)}\")\n",
    "\n",
    "# Save the trained student model\n",
    "student_model_path = os.path.join('models', 'student_model.pth')\n",
    "torch.save(student_model.state_dict(), student_model_path)\n",
    "\n",
    "print(f\"Student model training complete and weights saved to {student_model_path}\")\n"
   ]
  },
  {
   "cell_type": "markdown",
   "id": "ac6a8b68-fdd1-471f-ad30-06e2ffcee092",
   "metadata": {},
   "source": [
    "<b>Evaluation</b>\n",
    "<br>\n",
    "\r\n",
    "The student model's training shows improvement but not as much as the teacher model in Task 3.1. Initially, the student model starts with a higher loss of 0.7091 compared to the teacher's 0.4766. By the fifth epoch, the student's loss drops to 0.4614, indicating it is learning well, but still not as effectively as the teacher. By the tenth epoch, the student model's loss is 0.3664, higher than the teacher model's 0.1155 \r\n",
    "\r\n",
    "**Why the Results are Different from Task 3.1:**\r\n",
    "The teacher model in Task 3.1 is more complex and has more parameters, which helps it learn better from the data. The student model in Task 3.4 is simpler and has fewer parameters, so it can't capture as much detail from the data. Although the student model learns from the teacher model, its simpler structure leads to higher final loss values, showing it isn't as proficient."
   ]
  }
 ],
 "metadata": {
  "kernelspec": {
   "display_name": "Python 3 (ipykernel)",
   "language": "python",
   "name": "python3"
  },
  "language_info": {
   "codemirror_mode": {
    "name": "ipython",
    "version": 3
   },
   "file_extension": ".py",
   "mimetype": "text/x-python",
   "name": "python",
   "nbconvert_exporter": "python",
   "pygments_lexer": "ipython3",
   "version": "3.11.9"
  }
 },
 "nbformat": 4,
 "nbformat_minor": 5
}
