{
 "cells": [
  {
   "cell_type": "markdown",
   "metadata": {},
   "source": [
    "## Exercise on Machine Learning 101 - Part 1\n",
    "---\n",
    "Instructions are given in <span style=\"color:blue\">blue</span> color."
   ]
  },
  {
   "cell_type": "markdown",
   "metadata": {},
   "source": [
    "In this exercise, we will be looking at clinical data from patients that suffered from some type of cardiovascular disease (e.g., heart attack), which may or may not have caused the patient's death (heart failure).\n",
    "\n",
    "Our objective is to train a classifier that predicts under which circumstances a cardiovascular disease is most likely to be fatal."
   ]
  },
  {
   "cell_type": "markdown",
   "metadata": {},
   "source": [
    "* <div style=\"color:blue\">The folder <code>/data</code>, next to this exercise, contains the file <code>Heart_Failure.csv</code>. Your first task will be to read the data into a <code>DataFrame</code>. Make sure to import any necessary libraries, too.</div>"
   ]
  },
  {
   "cell_type": "code",
   "execution_count": 1,
   "metadata": {},
   "outputs": [],
   "source": [
    "# Libraries:\n",
    "import pandas as pd\n"
   ]
  },
  {
   "cell_type": "markdown",
   "metadata": {},
   "source": [
    "The following is needed for **reproducibility** (see [here](https://www.mikulskibartosz.name/how-to-set-the-global-random_state-in-scikit-learn/), but also [here](https://scikit-learn.org/stable/faq.html#how-do-i-set-a-random-state-for-an-entire-execution)):"
   ]
  },
  {
   "cell_type": "code",
   "execution_count": 2,
   "metadata": {},
   "outputs": [
    {
     "ename": "AttributeError",
     "evalue": "module 'pandas' has no attribute 'random'",
     "output_type": "error",
     "traceback": [
      "\u001b[1;31m---------------------------------------------------------------------------\u001b[0m",
      "\u001b[1;31mAttributeError\u001b[0m                            Traceback (most recent call last)",
      "Cell \u001b[1;32mIn[2], line 2\u001b[0m\n\u001b[0;32m      1\u001b[0m \u001b[38;5;28;01mimport\u001b[39;00m \u001b[38;5;21;01mpandas\u001b[39;00m \u001b[38;5;28;01mas\u001b[39;00m \u001b[38;5;21;01mnp\u001b[39;00m\n\u001b[1;32m----> 2\u001b[0m \u001b[43mnp\u001b[49m\u001b[38;5;241;43m.\u001b[39;49m\u001b[43mrandom\u001b[49m\u001b[38;5;241m.\u001b[39mseed(\u001b[38;5;241m42\u001b[39m)\n",
      "\u001b[1;31mAttributeError\u001b[0m: module 'pandas' has no attribute 'random'"
     ]
    }
   ],
   "source": [
    "import pandas as np\n",
    "np.random.seed(42)"
   ]
  },
  {
   "cell_type": "code",
   "execution_count": null,
   "metadata": {},
   "outputs": [],
   "source": [
    "# Your solution goes here:\n",
    "\n",
    "# Replace 'path_to_file' with the actual path to the Heart_Failure.csv file.\n",
    "df = pd.read_csv('data/Heart_Failure.csv')\n"
   ]
  },
  {
   "cell_type": "markdown",
   "metadata": {},
   "source": [
    "* <div style=\"color:blue\">Familiarize yourself with the data. Print out the first 5 rows of the <code>DataFrame</code>.</div>"
   ]
  },
  {
   "cell_type": "code",
   "execution_count": null,
   "metadata": {},
   "outputs": [
    {
     "ename": "NameError",
     "evalue": "name 'df' is not defined",
     "output_type": "error",
     "traceback": [
      "\u001b[1;31m---------------------------------------------------------------------------\u001b[0m",
      "\u001b[1;31mNameError\u001b[0m                                 Traceback (most recent call last)",
      "Cell \u001b[1;32mIn[1], line 2\u001b[0m\n\u001b[0;32m      1\u001b[0m \u001b[38;5;66;03m# Your solution goes here:\u001b[39;00m\n\u001b[1;32m----> 2\u001b[0m \u001b[38;5;28mprint\u001b[39m(\u001b[43mdf\u001b[49m\u001b[38;5;241m.\u001b[39mhead())\n",
      "\u001b[1;31mNameError\u001b[0m: name 'df' is not defined"
     ]
    }
   ],
   "source": [
    "# Your solution goes here:\n",
    "print(df.head())\n",
    "\n"
   ]
  },
  {
   "cell_type": "markdown",
   "metadata": {},
   "source": [
    "* <div style=\"color:blue\">Find out how many samples the <code>DataFrame</code> contains.</div>"
   ]
  },
  {
   "cell_type": "code",
   "execution_count": null,
   "metadata": {},
   "outputs": [
    {
     "name": "stdout",
     "output_type": "stream",
     "text": [
      "The DataFrame contains 299 samples.\n"
     ]
    }
   ],
   "source": [
    "# Your solution goes here:\n",
    "print(f\"The DataFrame contains {df.shape[0]} samples.\")\n"
   ]
  },
  {
   "cell_type": "markdown",
   "metadata": {},
   "source": [
    "As for the different features and labels, and what their respective meanings are:\n",
    "\n",
    "* **`age`** - patient's age at the time of heart failure\n",
    "* **`anaemia`** - decrease of red blood cells or hemoglobin (boolean)\n",
    "* **`creatinine_phosphokinase`** - level of the CPK enzyme in the blood (mcg/L)\n",
    "* **`diabetes`** - if the patient has diabetes (boolean)\n",
    "* **`ejection_fraction`** - percentage of blood leaving the heart at each contraction\n",
    "* **`high_blood_pressure`** - if the patient has hypertension (boolean)\n",
    "* **`platelets`** - platelets in the blood (kiloplatelets/mL)\n",
    "* **`serum_creatinine`** - level of serum creatinine in the blood (mg/dL)\n",
    "* **`serum_sodium`** - level of serum sodium in the blood (mEq/L)\n",
    "* **`sex`** - patients's sex (binary: '0' - female or '1' - male)\n",
    "* **`smoking`** - if the patient smokes (boolean)\n",
    "* **`time`** - follow-up period (days)\n",
    "* **`DEATH_EVENT`** - if the patient deceased during the follow-up period (boolean)"
   ]
  },
  {
   "cell_type": "markdown",
   "metadata": {},
   "source": [
    "In regards to cleaning the data, there is not much left to do for you, except for removing unneeded columns.\n",
    "\n",
    "* <div style=\"color:blue\">Remove the <code>time</code> column from the <code>DataFrame</code>.</div>"
   ]
  },
  {
   "cell_type": "code",
   "execution_count": null,
   "metadata": {},
   "outputs": [],
   "source": [
    "# Your solution goes here:\n"
   ]
  },
  {
   "cell_type": "markdown",
   "metadata": {},
   "source": [
    "* <div style=\"color:blue\">Split your data into a training set (containing 75% of the original data) and a testing set (including 25% of the original data). Furthermore, make sure that the label values' distribution is the same for all your sub-sets (<code>DEATH_EVENT</code>).</div>"
   ]
  },
  {
   "cell_type": "code",
   "execution_count": null,
   "metadata": {},
   "outputs": [],
   "source": [
    "# Your solution goes here:\n"
   ]
  },
  {
   "cell_type": "markdown",
   "metadata": {},
   "source": [
    "* <div style=\"color:blue\">Follow the suggestions of <b><a html=\"https://scikit-learn.org/stable/tutorial/machine_learning_map/index.html\">this</a></b> cheat sheet to select an estimator that fits the problem and the data.</div>\n",
    "* <div style=\"color:blue\">Remember that we are trying to find out what combination of feature observations will result in a <code>DEATH_EVENT</code>.</div>\n",
    "* <div style=\"color:blue\">Create an instance of the respective model with the help of <code>scikit-learn</code>.</div>\n",
    "\n",
    "**Note**: If your model selection process proposes an estimator you are not yet familiar with, try to remember the general **fit-predict-paradigm** utilized by `scikit-learn`. Also, keep in mind that the documentation provides plentiful information about each classifier, including a list of parameters and default values."
   ]
  },
  {
   "cell_type": "code",
   "execution_count": null,
   "metadata": {},
   "outputs": [],
   "source": [
    "# Your solution goes here:\n"
   ]
  },
  {
   "cell_type": "markdown",
   "metadata": {},
   "source": [
    "* <div style=\"color:blue\">Train the model, using your training data.</div>"
   ]
  },
  {
   "cell_type": "code",
   "execution_count": null,
   "metadata": {},
   "outputs": [],
   "source": [
    "# Your solution goes here:\n"
   ]
  },
  {
   "cell_type": "markdown",
   "metadata": {},
   "source": [
    "* <div style=\"color:blue\">Use your trained model to make predictions on the <b>test</b> set.</div>"
   ]
  },
  {
   "cell_type": "code",
   "execution_count": null,
   "metadata": {},
   "outputs": [],
   "source": [
    "# Your solution goes here:\n"
   ]
  },
  {
   "cell_type": "markdown",
   "metadata": {},
   "source": [
    "* <div style=\"color:blue\">Derive the accuracy metric from your predictions.</div>"
   ]
  },
  {
   "cell_type": "code",
   "execution_count": null,
   "metadata": {},
   "outputs": [],
   "source": [
    "# Your solution goes here:\n"
   ]
  },
  {
   "cell_type": "markdown",
   "metadata": {},
   "source": [
    "* <div style=\"color:blue\">Plot a confusion matrix that shows the number of predicted labels in comparison to the actual labels.</div>"
   ]
  },
  {
   "cell_type": "code",
   "execution_count": null,
   "metadata": {},
   "outputs": [],
   "source": [
    "# Your solution goes here:\n"
   ]
  },
  {
   "cell_type": "markdown",
   "metadata": {},
   "source": [
    "* <div style=\"color:blue\">Use the confusion matrix to fill out the following table:</div>\n",
    "\n",
    "||**True Positive**|**True Negative**|**False Positive**|**False Negative**|\n",
    "|-|:-:|:-:|:-:|:-:|\n",
    "|Number of Predictions|?|?|?|?|"
   ]
  },
  {
   "cell_type": "markdown",
   "metadata": {},
   "source": [
    "* <div style=\"color:blue\">Generate a classification report for your model.</div>\n",
    "\n",
    "**Note**: Depending on your classifier, your chosen parameters, or due to random effects, a warning message might pop up that says: `Precision and F-score are ill-defined and being set to 0.0 in labels with no predicted samples.` Please ignore this message for now and possibly make use of it when evaluating your model."
   ]
  },
  {
   "cell_type": "code",
   "execution_count": null,
   "metadata": {},
   "outputs": [],
   "source": [
    "# Your solution goes here:\n"
   ]
  },
  {
   "cell_type": "markdown",
   "metadata": {},
   "source": [
    "* <div style=\"color:blue\">Use the derived metrics (accuracy, confusion matrix, precision, recall, f1-score) to critically evaluate your model's quality. Is it well suited to fulfill its initial purpose?</div>\n",
    "\n",
    "**Note**: Before you start working on your answer, have a look at [this](https://ml-cheatsheet.readthedocs.io/en/latest/glossary.html#) website and search for the term **Null Accuracy**. Use the definition to support your discussion."
   ]
  },
  {
   "cell_type": "markdown",
   "metadata": {},
   "source": [
    "*Your solution goes here:*"
   ]
  },
  {
   "cell_type": "markdown",
   "metadata": {},
   "source": [
    "**Final Remark:** We are trying to give you a realistic indication of what you might expect when tackling data science tasks ... So, you might now either be put off in this particular case OR ready to plough on, maybe after having worked on the second one of this week's exercises and try another classifier which seems more promising (you might also want to follow the cheat sheet for algorithm selection a little further) ..."
   ]
  },
  {
   "cell_type": "code",
   "execution_count": null,
   "metadata": {},
   "outputs": [],
   "source": [
    "# Ok, I'm ploughing on and I am giving this another try ... (maybe)"
   ]
  }
 ],
 "metadata": {
  "kernelspec": {
   "display_name": "Python 3 (ipykernel)",
   "language": "python",
   "name": "python3"
  },
  "language_info": {
   "codemirror_mode": {
    "name": "ipython",
    "version": 3
   },
   "file_extension": ".py",
   "mimetype": "text/x-python",
   "name": "python",
   "nbconvert_exporter": "python",
   "pygments_lexer": "ipython3",
   "version": "3.11.3"
  }
 },
 "nbformat": 4,
 "nbformat_minor": 4
}
