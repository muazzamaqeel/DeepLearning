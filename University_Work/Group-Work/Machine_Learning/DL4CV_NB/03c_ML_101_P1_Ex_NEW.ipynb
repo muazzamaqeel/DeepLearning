{
 "cells": [
  {
   "cell_type": "markdown",
   "metadata": {},
   "source": [
    "## Exercise on Machine Learning 101 - Part 1\n",
    "---\n",
    "<div style=\"font-size: 20px\">\n",
    "  Group:\n",
    "  <br>\n",
    "  Homework H \n",
    "  <br>\n",
    "  Created by: Muazzam Bin Aqeel & Wesley dos santos Barisch\n",
    "</div>\n",
    "\n",
    "---\n",
    "Instructions are given in <span style=\"color:blue\">blue</span> color."
   ]
  },
  {
   "cell_type": "markdown",
   "metadata": {},
   "source": [
    "In this exercise, we will be looking at clinical data from patients that suffered from some type of cardiovascular disease (e.g., heart attack), which may or may not have caused the patient's death (heart failure).\n",
    "\n",
    "Our objective is to train a classifier that predicts under which circumstances a cardiovascular disease is most likely to be fatal."
   ]
  },
  {
   "cell_type": "markdown",
   "metadata": {},
   "source": [
    "* <div style=\"color:blue\">The folder <code>/data</code>, next to this exercise, contains the file <code>Heart_Failure.csv</code>. Your first task will be to read the data into a <code>DataFrame</code>. Make sure to import any necessary libraries, too.</div>"
   ]
  },
  {
   "cell_type": "code",
   "execution_count": 43,
   "metadata": {},
   "outputs": [],
   "source": [
    "# Libraries:\n",
    "import pandas as pd\n",
    "import numpy as np\n",
    "from sklearn.model_selection import train_test_split\n",
    "from sklearn.linear_model import LogisticRegression\n",
    "from sklearn.metrics import accuracy_score\n",
    "import matplotlib.pyplot as plt\n",
    "import seaborn as sns\n",
    "from sklearn.metrics import confusion_matrix\n",
    "from sklearn.metrics import classification_report\n",
    "\n"
   ]
  },
  {
   "cell_type": "markdown",
   "metadata": {},
   "source": [
    "The following is needed for **reproducibility** (see [here](https://www.mikulskibartosz.name/how-to-set-the-global-random_state-in-scikit-learn/), but also [here](https://scikit-learn.org/stable/faq.html#how-do-i-set-a-random-state-for-an-entire-execution)):"
   ]
  },
  {
   "cell_type": "code",
   "execution_count": 44,
   "metadata": {},
   "outputs": [],
   "source": [
    "np.random.seed(42)"
   ]
  },
  {
   "cell_type": "code",
   "execution_count": 45,
   "metadata": {},
   "outputs": [],
   "source": [
    "# Your solution goes here:\n",
    "file_path = 'data/Heart_Failure.csv'\n",
    "heart_failure_data = pd.read_csv(file_path)"
   ]
  },
  {
   "cell_type": "markdown",
   "metadata": {},
   "source": [
    "* <div style=\"color:blue\">Familiarize yourself with the data. Print out the first 5 rows of the <code>DataFrame</code>.</div>"
   ]
  },
  {
   "cell_type": "code",
   "execution_count": 46,
   "metadata": {},
   "outputs": [
    {
     "data": {
      "text/html": [
       "<style type=\"text/css\">\n",
       "#T_e2147 th {\n",
       "  font-size: 12pt;\n",
       "  text-align: center;\n",
       "}\n",
       "#T_e2147 td {\n",
       "  text-align: center;\n",
       "}\n",
       "#T_e2147_row0_col0, #T_e2147_row0_col1, #T_e2147_row0_col2, #T_e2147_row0_col3, #T_e2147_row0_col4, #T_e2147_row0_col5, #T_e2147_row0_col6, #T_e2147_row0_col7, #T_e2147_row0_col8, #T_e2147_row0_col9, #T_e2147_row0_col10, #T_e2147_row0_col11, #T_e2147_row0_col12, #T_e2147_row1_col0, #T_e2147_row1_col1, #T_e2147_row1_col2, #T_e2147_row1_col3, #T_e2147_row1_col4, #T_e2147_row1_col5, #T_e2147_row1_col6, #T_e2147_row1_col7, #T_e2147_row1_col8, #T_e2147_row1_col9, #T_e2147_row1_col10, #T_e2147_row1_col11, #T_e2147_row1_col12, #T_e2147_row2_col0, #T_e2147_row2_col1, #T_e2147_row2_col2, #T_e2147_row2_col3, #T_e2147_row2_col4, #T_e2147_row2_col5, #T_e2147_row2_col6, #T_e2147_row2_col7, #T_e2147_row2_col8, #T_e2147_row2_col9, #T_e2147_row2_col10, #T_e2147_row2_col11, #T_e2147_row2_col12, #T_e2147_row3_col0, #T_e2147_row3_col1, #T_e2147_row3_col2, #T_e2147_row3_col3, #T_e2147_row3_col4, #T_e2147_row3_col5, #T_e2147_row3_col6, #T_e2147_row3_col7, #T_e2147_row3_col8, #T_e2147_row3_col9, #T_e2147_row3_col10, #T_e2147_row3_col11, #T_e2147_row3_col12, #T_e2147_row4_col0, #T_e2147_row4_col1, #T_e2147_row4_col2, #T_e2147_row4_col3, #T_e2147_row4_col4, #T_e2147_row4_col5, #T_e2147_row4_col6, #T_e2147_row4_col7, #T_e2147_row4_col8, #T_e2147_row4_col9, #T_e2147_row4_col10, #T_e2147_row4_col11, #T_e2147_row4_col12 {\n",
       "  background-color: gray;\n",
       "  color: white;\n",
       "}\n",
       "</style>\n",
       "<table id=\"T_e2147\">\n",
       "  <thead>\n",
       "    <tr>\n",
       "      <th id=\"T_e2147_level0_col0\" class=\"col_heading level0 col0\" >age</th>\n",
       "      <th id=\"T_e2147_level0_col1\" class=\"col_heading level0 col1\" >anaemia</th>\n",
       "      <th id=\"T_e2147_level0_col2\" class=\"col_heading level0 col2\" >creatinine_phosphokinase</th>\n",
       "      <th id=\"T_e2147_level0_col3\" class=\"col_heading level0 col3\" >diabetes</th>\n",
       "      <th id=\"T_e2147_level0_col4\" class=\"col_heading level0 col4\" >ejection_fraction</th>\n",
       "      <th id=\"T_e2147_level0_col5\" class=\"col_heading level0 col5\" >high_blood_pressure</th>\n",
       "      <th id=\"T_e2147_level0_col6\" class=\"col_heading level0 col6\" >platelets</th>\n",
       "      <th id=\"T_e2147_level0_col7\" class=\"col_heading level0 col7\" >serum_creatinine</th>\n",
       "      <th id=\"T_e2147_level0_col8\" class=\"col_heading level0 col8\" >serum_sodium</th>\n",
       "      <th id=\"T_e2147_level0_col9\" class=\"col_heading level0 col9\" >sex</th>\n",
       "      <th id=\"T_e2147_level0_col10\" class=\"col_heading level0 col10\" >smoking</th>\n",
       "      <th id=\"T_e2147_level0_col11\" class=\"col_heading level0 col11\" >time</th>\n",
       "      <th id=\"T_e2147_level0_col12\" class=\"col_heading level0 col12\" >DEATH_EVENT</th>\n",
       "    </tr>\n",
       "  </thead>\n",
       "  <tbody>\n",
       "    <tr>\n",
       "      <td id=\"T_e2147_row0_col0\" class=\"data row0 col0\" >75.000000</td>\n",
       "      <td id=\"T_e2147_row0_col1\" class=\"data row0 col1\" >0</td>\n",
       "      <td id=\"T_e2147_row0_col2\" class=\"data row0 col2\" >582</td>\n",
       "      <td id=\"T_e2147_row0_col3\" class=\"data row0 col3\" >0</td>\n",
       "      <td id=\"T_e2147_row0_col4\" class=\"data row0 col4\" >20</td>\n",
       "      <td id=\"T_e2147_row0_col5\" class=\"data row0 col5\" >1</td>\n",
       "      <td id=\"T_e2147_row0_col6\" class=\"data row0 col6\" >265000.000000</td>\n",
       "      <td id=\"T_e2147_row0_col7\" class=\"data row0 col7\" >1.900000</td>\n",
       "      <td id=\"T_e2147_row0_col8\" class=\"data row0 col8\" >130</td>\n",
       "      <td id=\"T_e2147_row0_col9\" class=\"data row0 col9\" >1</td>\n",
       "      <td id=\"T_e2147_row0_col10\" class=\"data row0 col10\" >0</td>\n",
       "      <td id=\"T_e2147_row0_col11\" class=\"data row0 col11\" >4</td>\n",
       "      <td id=\"T_e2147_row0_col12\" class=\"data row0 col12\" >1</td>\n",
       "    </tr>\n",
       "    <tr>\n",
       "      <td id=\"T_e2147_row1_col0\" class=\"data row1 col0\" >55.000000</td>\n",
       "      <td id=\"T_e2147_row1_col1\" class=\"data row1 col1\" >0</td>\n",
       "      <td id=\"T_e2147_row1_col2\" class=\"data row1 col2\" >7861</td>\n",
       "      <td id=\"T_e2147_row1_col3\" class=\"data row1 col3\" >0</td>\n",
       "      <td id=\"T_e2147_row1_col4\" class=\"data row1 col4\" >38</td>\n",
       "      <td id=\"T_e2147_row1_col5\" class=\"data row1 col5\" >0</td>\n",
       "      <td id=\"T_e2147_row1_col6\" class=\"data row1 col6\" >263358.030000</td>\n",
       "      <td id=\"T_e2147_row1_col7\" class=\"data row1 col7\" >1.100000</td>\n",
       "      <td id=\"T_e2147_row1_col8\" class=\"data row1 col8\" >136</td>\n",
       "      <td id=\"T_e2147_row1_col9\" class=\"data row1 col9\" >1</td>\n",
       "      <td id=\"T_e2147_row1_col10\" class=\"data row1 col10\" >0</td>\n",
       "      <td id=\"T_e2147_row1_col11\" class=\"data row1 col11\" >6</td>\n",
       "      <td id=\"T_e2147_row1_col12\" class=\"data row1 col12\" >1</td>\n",
       "    </tr>\n",
       "    <tr>\n",
       "      <td id=\"T_e2147_row2_col0\" class=\"data row2 col0\" >65.000000</td>\n",
       "      <td id=\"T_e2147_row2_col1\" class=\"data row2 col1\" >0</td>\n",
       "      <td id=\"T_e2147_row2_col2\" class=\"data row2 col2\" >146</td>\n",
       "      <td id=\"T_e2147_row2_col3\" class=\"data row2 col3\" >0</td>\n",
       "      <td id=\"T_e2147_row2_col4\" class=\"data row2 col4\" >20</td>\n",
       "      <td id=\"T_e2147_row2_col5\" class=\"data row2 col5\" >0</td>\n",
       "      <td id=\"T_e2147_row2_col6\" class=\"data row2 col6\" >162000.000000</td>\n",
       "      <td id=\"T_e2147_row2_col7\" class=\"data row2 col7\" >1.300000</td>\n",
       "      <td id=\"T_e2147_row2_col8\" class=\"data row2 col8\" >129</td>\n",
       "      <td id=\"T_e2147_row2_col9\" class=\"data row2 col9\" >1</td>\n",
       "      <td id=\"T_e2147_row2_col10\" class=\"data row2 col10\" >1</td>\n",
       "      <td id=\"T_e2147_row2_col11\" class=\"data row2 col11\" >7</td>\n",
       "      <td id=\"T_e2147_row2_col12\" class=\"data row2 col12\" >1</td>\n",
       "    </tr>\n",
       "    <tr>\n",
       "      <td id=\"T_e2147_row3_col0\" class=\"data row3 col0\" >50.000000</td>\n",
       "      <td id=\"T_e2147_row3_col1\" class=\"data row3 col1\" >1</td>\n",
       "      <td id=\"T_e2147_row3_col2\" class=\"data row3 col2\" >111</td>\n",
       "      <td id=\"T_e2147_row3_col3\" class=\"data row3 col3\" >0</td>\n",
       "      <td id=\"T_e2147_row3_col4\" class=\"data row3 col4\" >20</td>\n",
       "      <td id=\"T_e2147_row3_col5\" class=\"data row3 col5\" >0</td>\n",
       "      <td id=\"T_e2147_row3_col6\" class=\"data row3 col6\" >210000.000000</td>\n",
       "      <td id=\"T_e2147_row3_col7\" class=\"data row3 col7\" >1.900000</td>\n",
       "      <td id=\"T_e2147_row3_col8\" class=\"data row3 col8\" >137</td>\n",
       "      <td id=\"T_e2147_row3_col9\" class=\"data row3 col9\" >1</td>\n",
       "      <td id=\"T_e2147_row3_col10\" class=\"data row3 col10\" >0</td>\n",
       "      <td id=\"T_e2147_row3_col11\" class=\"data row3 col11\" >7</td>\n",
       "      <td id=\"T_e2147_row3_col12\" class=\"data row3 col12\" >1</td>\n",
       "    </tr>\n",
       "    <tr>\n",
       "      <td id=\"T_e2147_row4_col0\" class=\"data row4 col0\" >65.000000</td>\n",
       "      <td id=\"T_e2147_row4_col1\" class=\"data row4 col1\" >1</td>\n",
       "      <td id=\"T_e2147_row4_col2\" class=\"data row4 col2\" >160</td>\n",
       "      <td id=\"T_e2147_row4_col3\" class=\"data row4 col3\" >1</td>\n",
       "      <td id=\"T_e2147_row4_col4\" class=\"data row4 col4\" >20</td>\n",
       "      <td id=\"T_e2147_row4_col5\" class=\"data row4 col5\" >0</td>\n",
       "      <td id=\"T_e2147_row4_col6\" class=\"data row4 col6\" >327000.000000</td>\n",
       "      <td id=\"T_e2147_row4_col7\" class=\"data row4 col7\" >2.700000</td>\n",
       "      <td id=\"T_e2147_row4_col8\" class=\"data row4 col8\" >116</td>\n",
       "      <td id=\"T_e2147_row4_col9\" class=\"data row4 col9\" >0</td>\n",
       "      <td id=\"T_e2147_row4_col10\" class=\"data row4 col10\" >0</td>\n",
       "      <td id=\"T_e2147_row4_col11\" class=\"data row4 col11\" >8</td>\n",
       "      <td id=\"T_e2147_row4_col12\" class=\"data row4 col12\" >1</td>\n",
       "    </tr>\n",
       "  </tbody>\n",
       "</table>\n"
      ],
      "text/plain": [
       "<pandas.io.formats.style.Styler at 0x204c2ef1350>"
      ]
     },
     "execution_count": 46,
     "metadata": {},
     "output_type": "execute_result"
    }
   ],
   "source": [
    "table = heart_failure_data.head().style.set_table_styles(\n",
    "    [{\n",
    "        'selector': 'th',\n",
    "        'props': [('font-size', '12pt'), ('text-align', 'center')]\n",
    "    },\n",
    "    {\n",
    "        'selector': 'td',\n",
    "        'props': [('text-align', 'center')]\n",
    "    }]\n",
    ").set_properties(**{'background-color': 'gray', 'color': 'white'}).hide(axis='index')\n",
    "\n",
    "table\n"
   ]
  },
  {
   "cell_type": "markdown",
   "metadata": {},
   "source": [
    "* <div style=\"color:blue\">Find out how many samples the <code>DataFrame</code> contains.</div>"
   ]
  },
  {
   "cell_type": "code",
   "execution_count": 47,
   "metadata": {},
   "outputs": [
    {
     "name": "stdout",
     "output_type": "stream",
     "text": [
      "The following are the number of samples in the DataFrame: 299\n"
     ]
    }
   ],
   "source": [
    "# Your solution goes here:\n",
    "number_of_samples = heart_failure_data.shape[0]\n",
    "print(\"The following are the number of samples in the DataFrame: \" + str(number_of_samples))"
   ]
  },
  {
   "cell_type": "markdown",
   "metadata": {},
   "source": [
    "As for the different features and labels, and what their respective meanings are:\n",
    "\n",
    "* **`age`** - patient's age at the time of heart failure\n",
    "* **`anaemia`** - decrease of red blood cells or hemoglobin (boolean)\n",
    "* **`creatinine_phosphokinase`** - level of the CPK enzyme in the blood (mcg/L)\n",
    "* **`diabetes`** - if the patient has diabetes (boolean)\n",
    "* **`ejection_fraction`** - percentage of blood leaving the heart at each contraction\n",
    "* **`high_blood_pressure`** - if the patient has hypertension (boolean)\n",
    "* **`platelets`** - platelets in the blood (kiloplatelets/mL)\n",
    "* **`serum_creatinine`** - level of serum creatinine in the blood (mg/dL)\n",
    "* **`serum_sodium`** - level of serum sodium in the blood (mEq/L)\n",
    "* **`sex`** - patients's sex (binary: '0' - female or '1' - male)\n",
    "* **`smoking`** - if the patient smokes (boolean)\n",
    "* **`time`** - follow-up period (days)\n",
    "* **`DEATH_EVENT`** - if the patient deceased during the follow-up period (boolean)"
   ]
  },
  {
   "cell_type": "markdown",
   "metadata": {},
   "source": [
    "In regards to cleaning the data, there is not much left to do for you, except for removing unneeded columns.\n",
    "\n",
    "* <div style=\"color:blue\">Remove the <code>time</code> column from the <code>DataFrame</code>.</div>"
   ]
  },
  {
   "cell_type": "code",
   "execution_count": 48,
   "metadata": {},
   "outputs": [
    {
     "data": {
      "text/html": [
       "<div>\n",
       "<style scoped>\n",
       "    .dataframe tbody tr th:only-of-type {\n",
       "        vertical-align: middle;\n",
       "    }\n",
       "\n",
       "    .dataframe tbody tr th {\n",
       "        vertical-align: top;\n",
       "    }\n",
       "\n",
       "    .dataframe thead th {\n",
       "        text-align: right;\n",
       "    }\n",
       "</style>\n",
       "<table border=\"1\" class=\"dataframe\">\n",
       "  <thead>\n",
       "    <tr style=\"text-align: right;\">\n",
       "      <th></th>\n",
       "      <th>age</th>\n",
       "      <th>anaemia</th>\n",
       "      <th>creatinine_phosphokinase</th>\n",
       "      <th>diabetes</th>\n",
       "      <th>ejection_fraction</th>\n",
       "      <th>high_blood_pressure</th>\n",
       "      <th>platelets</th>\n",
       "      <th>serum_creatinine</th>\n",
       "      <th>serum_sodium</th>\n",
       "      <th>sex</th>\n",
       "      <th>smoking</th>\n",
       "      <th>DEATH_EVENT</th>\n",
       "    </tr>\n",
       "  </thead>\n",
       "  <tbody>\n",
       "    <tr>\n",
       "      <th>0</th>\n",
       "      <td>75.0</td>\n",
       "      <td>0</td>\n",
       "      <td>582</td>\n",
       "      <td>0</td>\n",
       "      <td>20</td>\n",
       "      <td>1</td>\n",
       "      <td>265000.00</td>\n",
       "      <td>1.9</td>\n",
       "      <td>130</td>\n",
       "      <td>1</td>\n",
       "      <td>0</td>\n",
       "      <td>1</td>\n",
       "    </tr>\n",
       "    <tr>\n",
       "      <th>1</th>\n",
       "      <td>55.0</td>\n",
       "      <td>0</td>\n",
       "      <td>7861</td>\n",
       "      <td>0</td>\n",
       "      <td>38</td>\n",
       "      <td>0</td>\n",
       "      <td>263358.03</td>\n",
       "      <td>1.1</td>\n",
       "      <td>136</td>\n",
       "      <td>1</td>\n",
       "      <td>0</td>\n",
       "      <td>1</td>\n",
       "    </tr>\n",
       "    <tr>\n",
       "      <th>2</th>\n",
       "      <td>65.0</td>\n",
       "      <td>0</td>\n",
       "      <td>146</td>\n",
       "      <td>0</td>\n",
       "      <td>20</td>\n",
       "      <td>0</td>\n",
       "      <td>162000.00</td>\n",
       "      <td>1.3</td>\n",
       "      <td>129</td>\n",
       "      <td>1</td>\n",
       "      <td>1</td>\n",
       "      <td>1</td>\n",
       "    </tr>\n",
       "    <tr>\n",
       "      <th>3</th>\n",
       "      <td>50.0</td>\n",
       "      <td>1</td>\n",
       "      <td>111</td>\n",
       "      <td>0</td>\n",
       "      <td>20</td>\n",
       "      <td>0</td>\n",
       "      <td>210000.00</td>\n",
       "      <td>1.9</td>\n",
       "      <td>137</td>\n",
       "      <td>1</td>\n",
       "      <td>0</td>\n",
       "      <td>1</td>\n",
       "    </tr>\n",
       "    <tr>\n",
       "      <th>4</th>\n",
       "      <td>65.0</td>\n",
       "      <td>1</td>\n",
       "      <td>160</td>\n",
       "      <td>1</td>\n",
       "      <td>20</td>\n",
       "      <td>0</td>\n",
       "      <td>327000.00</td>\n",
       "      <td>2.7</td>\n",
       "      <td>116</td>\n",
       "      <td>0</td>\n",
       "      <td>0</td>\n",
       "      <td>1</td>\n",
       "    </tr>\n",
       "  </tbody>\n",
       "</table>\n",
       "</div>"
      ],
      "text/plain": [
       "    age  anaemia  creatinine_phosphokinase  diabetes  ejection_fraction  \\\n",
       "0  75.0        0                       582         0                 20   \n",
       "1  55.0        0                      7861         0                 38   \n",
       "2  65.0        0                       146         0                 20   \n",
       "3  50.0        1                       111         0                 20   \n",
       "4  65.0        1                       160         1                 20   \n",
       "\n",
       "   high_blood_pressure  platelets  serum_creatinine  serum_sodium  sex  \\\n",
       "0                    1  265000.00               1.9           130    1   \n",
       "1                    0  263358.03               1.1           136    1   \n",
       "2                    0  162000.00               1.3           129    1   \n",
       "3                    0  210000.00               1.9           137    1   \n",
       "4                    0  327000.00               2.7           116    0   \n",
       "\n",
       "   smoking  DEATH_EVENT  \n",
       "0        0            1  \n",
       "1        0            1  \n",
       "2        1            1  \n",
       "3        0            1  \n",
       "4        0            1  "
      ]
     },
     "execution_count": 48,
     "metadata": {},
     "output_type": "execute_result"
    }
   ],
   "source": [
    "heart_failure_data_cleaned = heart_failure_data.drop('time', axis=1)\n",
    "heart_failure_data_cleaned.head()"
   ]
  },
  {
   "cell_type": "markdown",
   "metadata": {},
   "source": [
    "* <div style=\"color:blue\">Split your data into a training set (containing 75% of the original data) and a testing set (including 25% of the original data). Furthermore, make sure that the label values' distribution is the same for all your sub-sets (<code>DEATH_EVENT</code>).</div>"
   ]
  },
  {
   "cell_type": "code",
   "execution_count": 49,
   "metadata": {},
   "outputs": [
    {
     "name": "stdout",
     "output_type": "stream",
     "text": [
      "Training set DEATH_EVENT distribution:\n",
      "DEATH_EVENT\n",
      "0    0.678571\n",
      "1    0.321429\n",
      "Name: proportion, dtype: float64\n",
      "\n",
      "Testing set DEATH_EVENT distribution:\n",
      "DEATH_EVENT\n",
      "0    0.68\n",
      "1    0.32\n",
      "Name: proportion, dtype: float64\n"
     ]
    }
   ],
   "source": [
    "# Your solution goes here:\n",
    "X = heart_failure_data.drop(columns=['DEATH_EVENT'])\n",
    "y = heart_failure_data['DEATH_EVENT']\n",
    "# Spliting  the data\n",
    "X_train, X_test, y_train, y_test = train_test_split(X, y, test_size=0.25, random_state=42, stratify=y)\n",
    "# Checking the distribution of DEATH_EVENT in training and testing sets\n",
    "print(\"Training set DEATH_EVENT distribution:\")\n",
    "print(y_train.value_counts(normalize=True))\n",
    "print(\"\\nTesting set DEATH_EVENT distribution:\")\n",
    "print(y_test.value_counts(normalize=True))\n"
   ]
  },
  {
   "cell_type": "markdown",
   "metadata": {},
   "source": [
    "* <div style=\"color:blue\">Follow the suggestions of <b><a html=\"https://scikit-learn.org/stable/tutorial/machine_learning_map/index.html\">this</a></b> cheat sheet to select an estimator that fits the problem and the data.</div>\n",
    "* <div style=\"color:blue\">Remember that we are trying to find out what combination of feature observations will result in a <code>DEATH_EVENT</code>.</div>\n",
    "* <div style=\"color:blue\">Create an instance of the respective model with the help of <code>scikit-learn</code>.</div>\n",
    "\n",
    "**Note**: If your model selection process proposes an estimator you are not yet familiar with, try to remember the general **fit-predict-paradigm** utilized by `scikit-learn`. Also, keep in mind that the documentation provides plentiful information about each classifier, including a list of parameters and default values."
   ]
  },
  {
   "cell_type": "code",
   "execution_count": 50,
   "metadata": {},
   "outputs": [
    {
     "data": {
      "text/html": [
       "<style>#sk-container-id-8 {color: black;}#sk-container-id-8 pre{padding: 0;}#sk-container-id-8 div.sk-toggleable {background-color: white;}#sk-container-id-8 label.sk-toggleable__label {cursor: pointer;display: block;width: 100%;margin-bottom: 0;padding: 0.3em;box-sizing: border-box;text-align: center;}#sk-container-id-8 label.sk-toggleable__label-arrow:before {content: \"▸\";float: left;margin-right: 0.25em;color: #696969;}#sk-container-id-8 label.sk-toggleable__label-arrow:hover:before {color: black;}#sk-container-id-8 div.sk-estimator:hover label.sk-toggleable__label-arrow:before {color: black;}#sk-container-id-8 div.sk-toggleable__content {max-height: 0;max-width: 0;overflow: hidden;text-align: left;background-color: #f0f8ff;}#sk-container-id-8 div.sk-toggleable__content pre {margin: 0.2em;color: black;border-radius: 0.25em;background-color: #f0f8ff;}#sk-container-id-8 input.sk-toggleable__control:checked~div.sk-toggleable__content {max-height: 200px;max-width: 100%;overflow: auto;}#sk-container-id-8 input.sk-toggleable__control:checked~label.sk-toggleable__label-arrow:before {content: \"▾\";}#sk-container-id-8 div.sk-estimator input.sk-toggleable__control:checked~label.sk-toggleable__label {background-color: #d4ebff;}#sk-container-id-8 div.sk-label input.sk-toggleable__control:checked~label.sk-toggleable__label {background-color: #d4ebff;}#sk-container-id-8 input.sk-hidden--visually {border: 0;clip: rect(1px 1px 1px 1px);clip: rect(1px, 1px, 1px, 1px);height: 1px;margin: -1px;overflow: hidden;padding: 0;position: absolute;width: 1px;}#sk-container-id-8 div.sk-estimator {font-family: monospace;background-color: #f0f8ff;border: 1px dotted black;border-radius: 0.25em;box-sizing: border-box;margin-bottom: 0.5em;}#sk-container-id-8 div.sk-estimator:hover {background-color: #d4ebff;}#sk-container-id-8 div.sk-parallel-item::after {content: \"\";width: 100%;border-bottom: 1px solid gray;flex-grow: 1;}#sk-container-id-8 div.sk-label:hover label.sk-toggleable__label {background-color: #d4ebff;}#sk-container-id-8 div.sk-serial::before {content: \"\";position: absolute;border-left: 1px solid gray;box-sizing: border-box;top: 0;bottom: 0;left: 50%;z-index: 0;}#sk-container-id-8 div.sk-serial {display: flex;flex-direction: column;align-items: center;background-color: white;padding-right: 0.2em;padding-left: 0.2em;position: relative;}#sk-container-id-8 div.sk-item {position: relative;z-index: 1;}#sk-container-id-8 div.sk-parallel {display: flex;align-items: stretch;justify-content: center;background-color: white;position: relative;}#sk-container-id-8 div.sk-item::before, #sk-container-id-8 div.sk-parallel-item::before {content: \"\";position: absolute;border-left: 1px solid gray;box-sizing: border-box;top: 0;bottom: 0;left: 50%;z-index: -1;}#sk-container-id-8 div.sk-parallel-item {display: flex;flex-direction: column;z-index: 1;position: relative;background-color: white;}#sk-container-id-8 div.sk-parallel-item:first-child::after {align-self: flex-end;width: 50%;}#sk-container-id-8 div.sk-parallel-item:last-child::after {align-self: flex-start;width: 50%;}#sk-container-id-8 div.sk-parallel-item:only-child::after {width: 0;}#sk-container-id-8 div.sk-dashed-wrapped {border: 1px dashed gray;margin: 0 0.4em 0.5em 0.4em;box-sizing: border-box;padding-bottom: 0.4em;background-color: white;}#sk-container-id-8 div.sk-label label {font-family: monospace;font-weight: bold;display: inline-block;line-height: 1.2em;}#sk-container-id-8 div.sk-label-container {text-align: center;}#sk-container-id-8 div.sk-container {/* jupyter's `normalize.less` sets `[hidden] { display: none; }` but bootstrap.min.css set `[hidden] { display: none !important; }` so we also need the `!important` here to be able to override the default hidden behavior on the sphinx rendered scikit-learn.org. See: https://github.com/scikit-learn/scikit-learn/issues/21755 */display: inline-block !important;position: relative;}#sk-container-id-8 div.sk-text-repr-fallback {display: none;}</style><div id=\"sk-container-id-8\" class=\"sk-top-container\"><div class=\"sk-text-repr-fallback\"><pre>LogisticRegression(random_state=42)</pre><b>In a Jupyter environment, please rerun this cell to show the HTML representation or trust the notebook. <br />On GitHub, the HTML representation is unable to render, please try loading this page with nbviewer.org.</b></div><div class=\"sk-container\" hidden><div class=\"sk-item\"><div class=\"sk-estimator sk-toggleable\"><input class=\"sk-toggleable__control sk-hidden--visually\" id=\"sk-estimator-id-8\" type=\"checkbox\" checked><label for=\"sk-estimator-id-8\" class=\"sk-toggleable__label sk-toggleable__label-arrow\">LogisticRegression</label><div class=\"sk-toggleable__content\"><pre>LogisticRegression(random_state=42)</pre></div></div></div></div></div>"
      ],
      "text/plain": [
       "LogisticRegression(random_state=42)"
      ]
     },
     "execution_count": 50,
     "metadata": {},
     "output_type": "execute_result"
    }
   ],
   "source": [
    "# Your solution goes here:\n",
    "logistic_regression_model = LogisticRegression(random_state=42)\n",
    "logistic_regression_model = LogisticRegression(C=1.0, max_iter=100, random_state=42)\n",
    "logistic_regression_model.fit(X_train, y_train)"
   ]
  },
  {
   "cell_type": "markdown",
   "metadata": {},
   "source": [
    "* <div style=\"color:blue\">Train the model, using your training data.</div>"
   ]
  },
  {
   "cell_type": "code",
   "execution_count": 51,
   "metadata": {},
   "outputs": [
    {
     "data": {
      "text/html": [
       "<style>#sk-container-id-9 {color: black;}#sk-container-id-9 pre{padding: 0;}#sk-container-id-9 div.sk-toggleable {background-color: white;}#sk-container-id-9 label.sk-toggleable__label {cursor: pointer;display: block;width: 100%;margin-bottom: 0;padding: 0.3em;box-sizing: border-box;text-align: center;}#sk-container-id-9 label.sk-toggleable__label-arrow:before {content: \"▸\";float: left;margin-right: 0.25em;color: #696969;}#sk-container-id-9 label.sk-toggleable__label-arrow:hover:before {color: black;}#sk-container-id-9 div.sk-estimator:hover label.sk-toggleable__label-arrow:before {color: black;}#sk-container-id-9 div.sk-toggleable__content {max-height: 0;max-width: 0;overflow: hidden;text-align: left;background-color: #f0f8ff;}#sk-container-id-9 div.sk-toggleable__content pre {margin: 0.2em;color: black;border-radius: 0.25em;background-color: #f0f8ff;}#sk-container-id-9 input.sk-toggleable__control:checked~div.sk-toggleable__content {max-height: 200px;max-width: 100%;overflow: auto;}#sk-container-id-9 input.sk-toggleable__control:checked~label.sk-toggleable__label-arrow:before {content: \"▾\";}#sk-container-id-9 div.sk-estimator input.sk-toggleable__control:checked~label.sk-toggleable__label {background-color: #d4ebff;}#sk-container-id-9 div.sk-label input.sk-toggleable__control:checked~label.sk-toggleable__label {background-color: #d4ebff;}#sk-container-id-9 input.sk-hidden--visually {border: 0;clip: rect(1px 1px 1px 1px);clip: rect(1px, 1px, 1px, 1px);height: 1px;margin: -1px;overflow: hidden;padding: 0;position: absolute;width: 1px;}#sk-container-id-9 div.sk-estimator {font-family: monospace;background-color: #f0f8ff;border: 1px dotted black;border-radius: 0.25em;box-sizing: border-box;margin-bottom: 0.5em;}#sk-container-id-9 div.sk-estimator:hover {background-color: #d4ebff;}#sk-container-id-9 div.sk-parallel-item::after {content: \"\";width: 100%;border-bottom: 1px solid gray;flex-grow: 1;}#sk-container-id-9 div.sk-label:hover label.sk-toggleable__label {background-color: #d4ebff;}#sk-container-id-9 div.sk-serial::before {content: \"\";position: absolute;border-left: 1px solid gray;box-sizing: border-box;top: 0;bottom: 0;left: 50%;z-index: 0;}#sk-container-id-9 div.sk-serial {display: flex;flex-direction: column;align-items: center;background-color: white;padding-right: 0.2em;padding-left: 0.2em;position: relative;}#sk-container-id-9 div.sk-item {position: relative;z-index: 1;}#sk-container-id-9 div.sk-parallel {display: flex;align-items: stretch;justify-content: center;background-color: white;position: relative;}#sk-container-id-9 div.sk-item::before, #sk-container-id-9 div.sk-parallel-item::before {content: \"\";position: absolute;border-left: 1px solid gray;box-sizing: border-box;top: 0;bottom: 0;left: 50%;z-index: -1;}#sk-container-id-9 div.sk-parallel-item {display: flex;flex-direction: column;z-index: 1;position: relative;background-color: white;}#sk-container-id-9 div.sk-parallel-item:first-child::after {align-self: flex-end;width: 50%;}#sk-container-id-9 div.sk-parallel-item:last-child::after {align-self: flex-start;width: 50%;}#sk-container-id-9 div.sk-parallel-item:only-child::after {width: 0;}#sk-container-id-9 div.sk-dashed-wrapped {border: 1px dashed gray;margin: 0 0.4em 0.5em 0.4em;box-sizing: border-box;padding-bottom: 0.4em;background-color: white;}#sk-container-id-9 div.sk-label label {font-family: monospace;font-weight: bold;display: inline-block;line-height: 1.2em;}#sk-container-id-9 div.sk-label-container {text-align: center;}#sk-container-id-9 div.sk-container {/* jupyter's `normalize.less` sets `[hidden] { display: none; }` but bootstrap.min.css set `[hidden] { display: none !important; }` so we also need the `!important` here to be able to override the default hidden behavior on the sphinx rendered scikit-learn.org. See: https://github.com/scikit-learn/scikit-learn/issues/21755 */display: inline-block !important;position: relative;}#sk-container-id-9 div.sk-text-repr-fallback {display: none;}</style><div id=\"sk-container-id-9\" class=\"sk-top-container\"><div class=\"sk-text-repr-fallback\"><pre>LogisticRegression(random_state=42)</pre><b>In a Jupyter environment, please rerun this cell to show the HTML representation or trust the notebook. <br />On GitHub, the HTML representation is unable to render, please try loading this page with nbviewer.org.</b></div><div class=\"sk-container\" hidden><div class=\"sk-item\"><div class=\"sk-estimator sk-toggleable\"><input class=\"sk-toggleable__control sk-hidden--visually\" id=\"sk-estimator-id-9\" type=\"checkbox\" checked><label for=\"sk-estimator-id-9\" class=\"sk-toggleable__label sk-toggleable__label-arrow\">LogisticRegression</label><div class=\"sk-toggleable__content\"><pre>LogisticRegression(random_state=42)</pre></div></div></div></div></div>"
      ],
      "text/plain": [
       "LogisticRegression(random_state=42)"
      ]
     },
     "execution_count": 51,
     "metadata": {},
     "output_type": "execute_result"
    }
   ],
   "source": [
    "# Your solution goes here:\n",
    "logistic_regression_model.fit(X_train, y_train)\n"
   ]
  },
  {
   "cell_type": "markdown",
   "metadata": {},
   "source": [
    "* <div style=\"color:blue\">Use your trained model to make predictions on the <b>test</b> set.</div>"
   ]
  },
  {
   "cell_type": "code",
   "execution_count": 52,
   "metadata": {},
   "outputs": [],
   "source": [
    "# Your solution goes here:\n",
    "# Use the trained model to make predictions on the test set\n",
    "predictions = logistic_regression_model.predict(X_test)\n"
   ]
  },
  {
   "cell_type": "markdown",
   "metadata": {},
   "source": [
    "* <div style=\"color:blue\">Derive the accuracy metric from your predictions.</div>"
   ]
  },
  {
   "cell_type": "code",
   "execution_count": 53,
   "metadata": {},
   "outputs": [
    {
     "name": "stdout",
     "output_type": "stream",
     "text": [
      "Accuracy: 0.8266666666666667\n"
     ]
    }
   ],
   "source": [
    "# Your solution goes here:\n",
    "accuracy = accuracy_score(y_test, predictions)\n",
    "print(\"Accuracy:\", accuracy)\n"
   ]
  },
  {
   "cell_type": "markdown",
   "metadata": {},
   "source": [
    "* <div style=\"color:blue\">Plot a confusion matrix that shows the number of predicted labels in comparison to the actual labels.</div>"
   ]
  },
  {
   "cell_type": "code",
   "execution_count": 54,
   "metadata": {},
   "outputs": [
    {
     "data": {
      "image/png": "[encoded data removed]",
      "text/plain": [
       "<Figure size 800x600 with 2 Axes>"
      ]
     },
     "metadata": {},
     "output_type": "display_data"
    }
   ],
   "source": [
    "# Your solution goes here:\n",
    "conf_matrix = confusion_matrix(y_test, predictions)\n",
    "plt.figure(figsize=(8, 6))\n",
    "sns.heatmap(conf_matrix, annot=True, fmt=\"d\", cmap=\"gray\", \n",
    "            xticklabels=['Not Event', 'Event'], \n",
    "            yticklabels=['Not Event', 'Event'])\n",
    "plt.xlabel('Predicted Labels')\n",
    "plt.ylabel('Actual Labels')\n",
    "plt.title('Confusion Matrix')\n",
    "plt.show()\n"
   ]
  },
  {
   "cell_type": "markdown",
   "metadata": {},
   "source": [
    "* <div style=\"color:blue\">Use the confusion matrix to fill out the following table:</div>\n",
    "\n",
    "||**True Positive**|**True Negative**|**False Positive**|**False Negative**|\n",
    "|-|:-:|:-:|:-:|:-:|\n",
    "|Number of Predictions|14|48|3|10|"
   ]
  },
  {
   "cell_type": "markdown",
   "metadata": {},
   "source": [
    "* <div style=\"color:blue\">Generate a classification report for your model.</div>\n",
    "\n",
    "**Note**: Depending on your classifier, your chosen parameters, or due to random effects, a warning message might pop up that says: `Precision and F-score are ill-defined and being set to 0.0 in labels with no predicted samples.` Please ignore this message for now and possibly make use of it when evaluating your model."
   ]
  },
  {
   "cell_type": "code",
   "execution_count": 55,
   "metadata": {},
   "outputs": [
    {
     "name": "stdout",
     "output_type": "stream",
     "text": [
      "Classification Report:\n",
      "              precision    recall  f1-score    support\n",
      "0              0.827586  0.941176  0.880734  51.000000\n",
      "1              0.823529  0.583333  0.682927  24.000000\n",
      "accuracy       0.826667  0.826667  0.826667   0.826667\n",
      "macro avg      0.825558  0.762255  0.781830  75.000000\n",
      "weighted avg   0.826288  0.826667  0.817436  75.000000\n"
     ]
    }
   ],
   "source": [
    "report_dict = classification_report(y_test, predictions, output_dict=True)\n",
    "report_df = pd.DataFrame(report_dict).transpose()\n",
    "print(\"Classification Report:\")\n",
    "print(report_df)\n"
   ]
  },
  {
   "cell_type": "markdown",
   "metadata": {},
   "source": [
    "* <div style=\"color:blue\">Use the derived metrics (accuracy, confusion matrix, precision, recall, f1-score) to critically evaluate your model's quality. Is it well suited to fulfill its initial purpose?</div>\n",
    "\n",
    "**Note**: Before you start working on your answer, have a look at [this](https://ml-cheatsheet.readthedocs.io/en/latest/glossary.html#) website and search for the term **Null Accuracy**. Use the definition to support your discussion."
   ]
  },
  {
   "cell_type": "markdown",
   "metadata": {},
   "source": [
    "<div style=\"color:green\">The logistic regression model is accurate at 82.67% and precise for both outcomes, excelling at identifying non-events with a high recall of 94.12%. However, it lacks in detecting actual events with only 58.33% recall, a critical gap for predicting life-threatening incidents. \n",
    "<br>\n",
    "Despite a good precision that minimizes false alarms, the model's inability to catch nearly half of the true events is a concern. \n",
    "<br>\n",
    "The F1-score discrepancy between non-events (88.07%) and events (68.29%) indicates a need for improvement.\n",
    "<br>\n",
    "Given the serious nature of death events, the model's current performance might not be suitable for clinical use without further improvement.\n",
    "To enhance clinical applicability, the model must boost event recall, even at precision's cost. \n",
    "A comparison with null accuracy is also essential to ensure the model's predictions surpass a naive approach</div>\n"
   ]
  },
  {
   "cell_type": "markdown",
   "metadata": {},
   "source": [
    "**Final Remark:** We are trying to give you a realistic indication of what you might expect when tackling data science tasks ... So, you might now either be put off in this particular case OR ready to plough on, maybe after having worked on the second one of this week's exercises and try another classifier which seems more promising (you might also want to follow the cheat sheet for algorithm selection a little further) ..."
   ]
  },
  {
   "cell_type": "code",
   "execution_count": 56,
   "metadata": {},
   "outputs": [],
   "source": [
    "# Ok, I'm ploughing on and I am giving this another try ... (maybe)"
   ]
  }
 ],
 "metadata": {
  "kernelspec": {
   "display_name": "Python 3 (ipykernel)",
   "language": "python",
   "name": "python3"
  },
  "language_info": {
   "codemirror_mode": {
    "name": "ipython",
    "version": 3
   },
   "file_extension": ".py",
   "mimetype": "text/x-python",
   "name": "python",
   "nbconvert_exporter": "python",
   "pygments_lexer": "ipython3",
   "version": "3.11.3"
  }
 },
 "nbformat": 4,
 "nbformat_minor": 4
}
