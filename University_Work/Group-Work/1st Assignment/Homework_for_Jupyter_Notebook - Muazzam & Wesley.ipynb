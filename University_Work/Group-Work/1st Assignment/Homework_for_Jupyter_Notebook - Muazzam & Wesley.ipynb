{
 "cells": [
  {
   "cell_type": "markdown",
   "metadata": {},
   "source": [
    "<div style=\"font-size: 30px\">\n",
    "  Template\n",
    "</div>\n",
    "<div style=\"font-size: 20px\">\n",
    "  Created by: \n",
    "  Muazzam Bin Aqeel & Wesley dos santos Barisch\n",
    "\n",
    "</div>"
   ]
  },
  {
   "cell_type": "code",
   "execution_count": null,
   "metadata": {},
   "outputs": [],
   "source": []
  }
 ],
 "metadata": {
  "language_info": {
   "name": "python"
  }
 },
 "nbformat": 4,
 "nbformat_minor": 2
}
