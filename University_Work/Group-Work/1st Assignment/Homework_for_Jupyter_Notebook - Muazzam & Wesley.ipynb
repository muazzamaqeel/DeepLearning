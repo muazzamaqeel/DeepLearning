{
 "cells": [
  {
   "cell_type": "markdown",
   "metadata": {},
   "source": [
    "<div style=\"font-size: 30px\">\n",
    "  Fibonacci numbers\n",
    "</div>\n",
    "<div style=\"font-size: 20px\">\n",
    "  Created by: \n",
    "  Muazzam Bin Aqeel & Wesley dos santos Barisch\n",
    "\n",
    "</div>"
   ]
  },
  {
   "cell_type": "markdown",
   "metadata": {},
   "source": [
    "Structure of the notebook:\n",
    "1. short description of what Fibonacci numbers are, using Markdown;\n",
    "2. working Python implementation that outputs the Fibonacci sequence of length n;\n",
    "3. link to an external source that provides more information to the reader."
   ]
  },
  {
   "cell_type": "code",
   "execution_count": null,
   "metadata": {},
   "outputs": [],
   "source": []
  }
 ],
 "metadata": {
  "language_info": {
   "name": "python"
  }
 },
 "nbformat": 4,
 "nbformat_minor": 2
}
