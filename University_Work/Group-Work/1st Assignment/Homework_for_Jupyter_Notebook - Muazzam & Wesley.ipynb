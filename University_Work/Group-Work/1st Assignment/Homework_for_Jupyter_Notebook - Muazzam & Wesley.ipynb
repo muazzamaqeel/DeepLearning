{
 "cells": [
  {
   "cell_type": "markdown",
   "metadata": {},
   "source": [
    "<div style=\"font-size: 30px\">\n",
    "  Fibonacci numbers\n",
    "</div>\n",
    "<div style=\"font-size: 20px\">\n",
    "  Created by: \n",
    "  Muazzam Bin Aqeel & Wesley dos santos Barisch\n",
    "\n",
    "</div>"
   ]
  },
  {
   "cell_type": "markdown",
   "metadata": {},
   "source": [
    "Structure of the notebook:\n",
    "1. short description of what Fibonacci numbers are, using Markdown;\n",
    "2. working Python implementation that outputs the Fibonacci sequence of length n;\n",
    "3. link to an external source that provides more information to the reader."
   ]
  },
  {
   "cell_type": "markdown",
   "metadata": {},
   "source": [
    "Answer for point number 1:\n",
    "\n",
    "The Fibonacci sequence is a series of numbers where each number is the sum of the two preceding ones, starting from 0 and 1. It was introduced by Italian mathematician Leonardo Fibonacci in the 13th century. This sequence grows steadily, and examples of the first few numbers are 0, 1, 1, 2, 3, 5, 8, 13, 21, and so on. The sequence follows a simple rule: $x_n = x_{n-1} + x_{n-2}$, where $x_n$ represents the nth number in the sequence, $x_{n-1}$ the previous number, and $x_{n-2}$ the number before that.\n",
    "\n",
    "A significant aspect of the Fibonacci sequence is its connection to the golden ratio, which is approximately 1.618. This ratio is found by dividing a number in the sequence by its immediate predecessor, and it has been of interest for centuries due to its occurrence in nature, art, and architecture. In finance, the Fibonacci sequence and its related ratios are used in technical analysis through methods like retracements, arcs, fans, and time zones to predict future market movements.\n"
   ]
  },
  {
   "cell_type": "code",
   "execution_count": null,
   "metadata": {},
   "outputs": [],
   "source": []
  }
 ],
 "metadata": {
  "language_info": {
   "name": "python"
  }
 },
 "nbformat": 4,
 "nbformat_minor": 2
}
