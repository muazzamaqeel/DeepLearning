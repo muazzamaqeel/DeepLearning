{
 "cells": [
  {
   "cell_type": "markdown",
   "metadata": {},
   "source": [
    "<div style=\"font-size: 30px\">\n",
    "  Fibonacci numbers\n",
    "</div>\n",
    "<div style=\"font-size: 20px\">\n",
    "  Created by: \n",
    "  Muazzam Bin Aqeel & Wesley dos santos Barisch\n",
    "\n",
    "</div>"
   ]
  },
  {
   "cell_type": "markdown",
   "metadata": {},
   "source": [
    "Structure of the notebook:\n",
    "1. short description of what Fibonacci numbers are, using Markdown;\n",
    "2. working Python implementation that outputs the Fibonacci sequence of length n;\n",
    "3. link to an external source that provides more information to the reader."
   ]
  },
  {
   "cell_type": "markdown",
   "metadata": {},
   "source": [
    "Answer for point number 1:\n",
    "\n",
    "The Fibonacci sequence is a series of numbers where each number is the sum of the two preceding ones, starting from 0 and 1. It was introduced by Italian mathematician Leonardo Fibonacci in the 13th century. This sequence grows steadily, and examples of the first few numbers are 0, 1, 1, 2, 3, 5, 8, 13, 21, and so on. The sequence follows a simple rule: $x_n = x_{n-1} + x_{n-2}$, where $x_n$ represents the nth number in the sequence, $x_{n-1}$ the previous number, and $x_{n-2}$ the number before that.\n",
    "\n",
    "A significant aspect of the Fibonacci sequence is its connection to the golden ratio, which is approximately 1.618. This ratio is found by dividing a number in the sequence by its immediate predecessor, and it has been of interest for centuries due to its occurrence in nature, art, and architecture. In finance, the Fibonacci sequence and its related ratios are used in technical analysis through methods like retracements, arcs, fans, and time zones to predict future market movements.\n"
   ]
  },
  {
   "cell_type": "code",
   "execution_count": 9,
   "metadata": {},
   "outputs": [
    {
     "name": "stdout",
     "output_type": "stream",
     "text": [
      "[0, 1, 1, 2, 3, 5, 8, 13, 21, 34, 55, 89, 144, 233, 377, 610, 987, 1597, 2584, 4181]\n",
      "Fibonacci Sequence Generator\n",
      "Fibonacci(2) = 1\n",
      "Fibonacci(3) = 2\n",
      "Fibonacci(4) = 3\n"
     ]
    }
   ],
   "source": [
    "#Answer for point number 2:\n",
    "\n",
    "def fibonacci_number(n):\n",
    "    \"\"\"\n",
    "    Calculate the nth Fibonacci number using the Binet formula.\n",
    "    This formula works for negative indices as well, demonstrating the concept of negative Fibonacci numbers.\n",
    "    \"\"\"\n",
    "    if n == 0:\n",
    "        return 0\n",
    "    if n == 1 or n == -1:\n",
    "        return 1\n",
    "    elif n < 0:\n",
    "        return (-1)**(-n + 1) * fibonacci_number(-n)\n",
    "    phi = (1 + 5 ** 0.5) / 2\n",
    "    psi = (1 - 5 ** 0.5) / 2\n",
    "    return int((phi**n - psi**n) / (5 ** 0.5))\n",
    "\n",
    "def fibonacci_sequence_complex(n):\n",
    "    \"\"\"\n",
    "    Generate a Fibonacci sequence of length n, allowing for negative indices.\n",
    "    Includes interactive mode and extensive input validation.\n",
    "    \"\"\"\n",
    "    # Input validation\n",
    "    try:\n",
    "        n = int(n)\n",
    "    except ValueError:\n",
    "        raise ValueError(\"n must be an integer\")\n",
    "\n",
    "    # Generate sequence\n",
    "    sequence = [fibonacci_number(i) for i in range(n)]\n",
    "\n",
    "    return sequence\n",
    "\n",
    "def live_mode():\n",
    "    print(\"Fibonacci Sequence Generator\")\n",
    "    while True:\n",
    "        try:\n",
    "            user_input = input(\"Enter an integer (or type 'quit' to exit): \")\n",
    "            if user_input.lower() == 'quit':\n",
    "                break\n",
    "            n = int(user_input)\n",
    "            print(f\"Fibonacci({n}) = {fibonacci_number(n)}\")\n",
    "        except ValueError as e:\n",
    "            print(f\"Error: {e}. Please enter a valid integer.\")\n",
    "\n",
    "# Example usage\n",
    "n = 20\n",
    "print(fibonacci_sequence_complex(n))\n",
    "\n",
    "\n",
    "#Information about the live_mode\n",
    "#Input a number that will calculate its Fibonacci number\n",
    "live_mode()\n",
    "\n"
   ]
  },
  {
   "cell_type": "code",
   "execution_count": null,
   "metadata": {},
   "outputs": [],
   "source": []
  }
 ],
 "metadata": {
  "kernelspec": {
   "display_name": "Python 3",
   "language": "python",
   "name": "python3"
  },
  "language_info": {
   "codemirror_mode": {
    "name": "ipython",
    "version": 3
   },
   "file_extension": ".py",
   "mimetype": "text/x-python",
   "name": "python",
   "nbconvert_exporter": "python",
   "pygments_lexer": "ipython3",
   "version": "3.11.3"
  }
 },
 "nbformat": 4,
 "nbformat_minor": 2
}
